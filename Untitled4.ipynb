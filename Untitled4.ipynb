{
 "cells": [
  {
   "cell_type": "code",
   "execution_count": 1,
   "metadata": {},
   "outputs": [],
   "source": [
    "library(ipred)"
   ]
  },
  {
   "cell_type": "code",
   "execution_count": 98,
   "metadata": {},
   "outputs": [],
   "source": [
    "read.csv(\"flipkart_com-ecommerce_sample.csv\") -> DF\n",
    "Maximum <- max(DF$retail_price,na.rm=T)\n",
    "Minimum <- min(DF$retail_price,na.rm=T)"
   ]
  },
  {
   "cell_type": "code",
   "execution_count": 100,
   "metadata": {},
   "outputs": [],
   "source": [
    "X$retail_price = X$retail_price*(Maximum-Minimum) + Minimum"
   ]
  },
  {
   "cell_type": "code",
   "execution_count": 102,
   "metadata": {},
   "outputs": [
    {
     "data": {
      "text/html": [
       "571230"
      ],
      "text/latex": [
       "571230"
      ],
      "text/markdown": [
       "571230"
      ],
      "text/plain": [
       "[1] 571230"
      ]
     },
     "metadata": {},
     "output_type": "display_data"
    }
   ],
   "source": [
    "max(X$retail_price)"
   ]
  },
  {
   "cell_type": "code",
   "execution_count": 38,
   "metadata": {},
   "outputs": [],
   "source": [
    "read.csv(\"H1\") -> Without_Discount"
   ]
  },
  {
   "cell_type": "code",
   "execution_count": 40,
   "metadata": {},
   "outputs": [
    {
     "name": "stderr",
     "output_type": "stream",
     "text": [
      "Loading required package: Matrix\n",
      "Loading required package: foreach\n",
      "Loaded glmnet 2.0-13\n",
      "\n"
     ]
    }
   ],
   "source": [
    "library(glmnet)"
   ]
  },
  {
   "cell_type": "code",
   "execution_count": 41,
   "metadata": {},
   "outputs": [
    {
     "name": "stdout",
     "output_type": "stream",
     "text": [
      "'data.frame':\t17682 obs. of  6 variables:\n",
      " $ crawl_timestamp        : Factor w/ 125 levels \"2015-12-01\",\"2015-12-03\",..: 43 43 43 43 43 43 43 43 43 43 ...\n",
      " $ Col1                   : Factor w/ 12 levels \"Automotive\",\"Beauty\",..: 3 4 3 3 4 3 4 3 3 9 ...\n",
      " $ retail_price           : num  0.00169 0.00169 0.00116 0.00204 0.00116 ...\n",
      " $ is_FK_Advantage_product: int  0 0 0 0 0 0 0 0 0 0 ...\n",
      " $ brand                  : Factor w/ 2891 levels \"\",\"@home\",\"1OAK\",..: 117 254 117 117 633 117 1427 425 117 871 ...\n",
      " $ Demand                 : num  2.64 2 2.62 2.5 2 ...\n"
     ]
    }
   ],
   "source": [
    "str(Without_Discount)"
   ]
  },
  {
   "cell_type": "code",
   "execution_count": 42,
   "metadata": {},
   "outputs": [],
   "source": [
    "library(glmnet)"
   ]
  },
  {
   "cell_type": "code",
   "execution_count": 43,
   "metadata": {},
   "outputs": [],
   "source": [
    "\n",
    "X=subset(Without_Discount,select = -c(crawl_timestamp))\n"
   ]
  },
  {
   "cell_type": "code",
   "execution_count": 103,
   "metadata": {},
   "outputs": [],
   "source": [
    "lm(retail_price~.,data=X) -> Fit"
   ]
  },
  {
   "cell_type": "code",
   "execution_count": 116,
   "metadata": {},
   "outputs": [],
   "source": [
    "\n",
    "# make predictions\n",
    "predictions <- predict(Fit, X)\n",
    "# summarize accuracy\n",
    "mse <- mean((X$retail_price - predictions)^2)"
   ]
  },
  {
   "cell_type": "code",
   "execution_count": 1,
   "metadata": {},
   "outputs": [],
   "source": [
    "wr <- read.csv(\"prediction.csv\")"
   ]
  },
  {
   "cell_type": "code",
   "execution_count": 2,
   "metadata": {},
   "outputs": [
    {
     "data": {
      "text/html": [
       "<table>\n",
       "<thead><tr><th scope=col>Col1</th><th scope=col>retail_price</th><th scope=col>is_FK_Advantage_product</th><th scope=col>brand</th><th scope=col>Demand</th></tr></thead>\n",
       "<tbody>\n",
       "\t<tr><td>Clothing</td><td>999     </td><td>0       </td><td>Alisha  </td><td>2.635884</td></tr>\n",
       "</tbody>\n",
       "</table>\n"
      ],
      "text/latex": [
       "\\begin{tabular}{r|lllll}\n",
       " Col1 & retail\\_price & is\\_FK\\_Advantage\\_product & brand & Demand\\\\\n",
       "\\hline\n",
       "\t Clothing & 999      & 0        & Alisha   & 2.635884\\\\\n",
       "\\end{tabular}\n"
      ],
      "text/markdown": [
       "\n",
       "Col1 | retail_price | is_FK_Advantage_product | brand | Demand | \n",
       "|---|\n",
       "| Clothing | 999      | 0        | Alisha   | 2.635884 | \n",
       "\n",
       "\n"
      ],
      "text/plain": [
       "  Col1     retail_price is_FK_Advantage_product brand  Demand  \n",
       "1 Clothing 999          0                       Alisha 2.635884"
      ]
     },
     "metadata": {},
     "output_type": "display_data"
    }
   ],
   "source": [
    "wr"
   ]
  },
  {
   "cell_type": "code",
   "execution_count": 4,
   "metadata": {},
   "outputs": [
    {
     "name": "stderr",
     "output_type": "stream",
     "text": [
      "Warning message in `[<-.factor`(`*tmp*`, ri, value = \"A\"):\n",
      "\"invalid factor level, NA generated\""
     ]
    }
   ],
   "source": [
    "rbind(wr[1,],c(\"Clothing\",0,0,\"A\",112)) -> XX1"
   ]
  },
  {
   "cell_type": "code",
   "execution_count": 5,
   "metadata": {},
   "outputs": [
    {
     "ename": "ERROR",
     "evalue": "Error in predict(Fit, wr[2, ]): object 'Fit' not found\n",
     "output_type": "error",
     "traceback": [
      "Error in predict(Fit, wr[2, ]): object 'Fit' not found\nTraceback:\n",
      "1. predict(Fit, wr[2, ])"
     ]
    }
   ],
   "source": [
    "predict(Fit,wr[2,])"
   ]
  },
  {
   "cell_type": "code",
   "execution_count": 118,
   "metadata": {},
   "outputs": [
    {
     "data": {
      "text/html": [
       "5019.25006290179"
      ],
      "text/latex": [
       "5019.25006290179"
      ],
      "text/markdown": [
       "5019.25006290179"
      ],
      "text/plain": [
       "[1] 5019.25"
      ]
     },
     "metadata": {},
     "output_type": "display_data"
    },
    {
     "data": {
      "text/html": [
       "9076"
      ],
      "text/latex": [
       "9076"
      ],
      "text/markdown": [
       "9076"
      ],
      "text/plain": [
       "[1] 9076"
      ]
     },
     "metadata": {},
     "output_type": "display_data"
    }
   ],
   "source": [
    "sqrt(mse)\n",
    "length(unique(predictions))\n",
    "write.csv(X[1,],\"prediction.csv\",row.names=F)"
   ]
  },
  {
   "cell_type": "code",
   "execution_count": 7,
   "metadata": {},
   "outputs": [
    {
     "ename": "ERROR",
     "evalue": "Error in predict.lm(Fit, X[2, ]): object 'X' not found\n",
     "output_type": "error",
     "traceback": [
      "Error in predict.lm(Fit, X[2, ]): object 'X' not found\nTraceback:\n",
      "1. predict(Fit, X[2, ])",
      "2. predict.lm(Fit, X[2, ])"
     ]
    }
   ],
   "source": [
    "predict(Fit,X[2,])"
   ]
  },
  {
   "cell_type": "code",
   "execution_count": 76,
   "metadata": {},
   "outputs": [
    {
     "data": {
      "text/html": [
       "16262.5796582557"
      ],
      "text/latex": [
       "16262.5796582557"
      ],
      "text/markdown": [
       "16262.5796582557"
      ],
      "text/plain": [
       "[1] 16262.58"
      ]
     },
     "metadata": {},
     "output_type": "display_data"
    }
   ],
   "source": [
    "max(predictions * Maximum)"
   ]
  },
  {
   "cell_type": "code",
   "execution_count": 12,
   "metadata": {},
   "outputs": [
    {
     "name": "stderr",
     "output_type": "stream",
     "text": [
      "Warning message in `[<-.factor`(`*tmp*`, ri, value = \"A\"):\n",
      "\"invalid factor level, NA generated\""
     ]
    }
   ],
   "source": [
    "rbind(wr[2,],c(\"Clothing\",0,0,\"A\",112)) -> wr"
   ]
  },
  {
   "cell_type": "code",
   "execution_count": 97,
   "metadata": {},
   "outputs": [
    {
     "data": {
      "text/html": [
       "<table>\n",
       "<thead><tr><th scope=col>Col1</th><th scope=col>retail_price</th><th scope=col>is_FK_Advantage_product</th><th scope=col>brand</th><th scope=col>Demand</th></tr></thead>\n",
       "<tbody>\n",
       "\t<tr><td>Clothing  </td><td>0.00168769</td><td>0         </td><td>Alisha    </td><td>2.635884  </td></tr>\n",
       "</tbody>\n",
       "</table>\n"
      ],
      "text/latex": [
       "\\begin{tabular}{r|lllll}\n",
       " Col1 & retail\\_price & is\\_FK\\_Advantage\\_product & brand & Demand\\\\\n",
       "\\hline\n",
       "\t Clothing   & 0.00168769 & 0          & Alisha     & 2.635884  \\\\\n",
       "\\end{tabular}\n"
      ],
      "text/markdown": [
       "\n",
       "Col1 | retail_price | is_FK_Advantage_product | brand | Demand | \n",
       "|---|\n",
       "| Clothing   | 0.00168769 | 0          | Alisha     | 2.635884   | \n",
       "\n",
       "\n"
      ],
      "text/plain": [
       "  Col1     retail_price is_FK_Advantage_product brand  Demand  \n",
       "1 Clothing 0.00168769   0                       Alisha 2.635884"
      ]
     },
     "metadata": {},
     "output_type": "display_data"
    }
   ],
   "source": [
    "save.model()"
   ]
  },
  {
   "cell_type": "code",
   "execution_count": null,
   "metadata": {},
   "outputs": [],
   "source": []
  },
  {
   "cell_type": "code",
   "execution_count": 126,
   "metadata": {},
   "outputs": [],
   "source": [
    "save(Fit, file = \"my_model2.rda\")"
   ]
  },
  {
   "cell_type": "code",
   "execution_count": 6,
   "metadata": {},
   "outputs": [],
   "source": [
    " load(\"my_model1.rda\")"
   ]
  },
  {
   "cell_type": "code",
   "execution_count": 69,
   "metadata": {},
   "outputs": [],
   "source": [
    "read.csv(\"flipkart_com-ecommerce_sample.csv\") -> DF\n",
    "Maximum <- max(DF$retail_price,na.rm=T)"
   ]
  },
  {
   "cell_type": "code",
   "execution_count": 70,
   "metadata": {},
   "outputs": [
    {
     "data": {
      "text/html": [
       "571230"
      ],
      "text/latex": [
       "571230"
      ],
      "text/markdown": [
       "571230"
      ],
      "text/plain": [
       "[1] 571230"
      ]
     },
     "metadata": {},
     "output_type": "display_data"
    }
   ],
   "source": [
    "Maximum"
   ]
  },
  {
   "cell_type": "code",
   "execution_count": 37,
   "metadata": {},
   "outputs": [
    {
     "data": {
      "text/html": [
       "<table>\n",
       "<thead><tr><th scope=col>crawl_timestamp</th><th scope=col>Col1</th><th scope=col>retail_price</th><th scope=col>is_FK_Advantage_product</th><th scope=col>brand</th><th scope=col>Demand</th></tr></thead>\n",
       "<tbody>\n",
       "\t<tr><td>2016-03-25   </td><td>Clothing     </td><td>0.001687690  </td><td>0            </td><td>Alisha       </td><td>2.635884     </td></tr>\n",
       "\t<tr><td>2016-03-25   </td><td>Footwear     </td><td>0.001687690  </td><td>0            </td><td>AW           </td><td>2.002004     </td></tr>\n",
       "\t<tr><td>2016-03-25   </td><td>Clothing     </td><td>0.001162475  </td><td>0            </td><td>Alisha       </td><td>2.617978     </td></tr>\n",
       "\t<tr><td>2016-03-25   </td><td>Clothing     </td><td>0.002037833  </td><td>0            </td><td>Alisha       </td><td>2.503132     </td></tr>\n",
       "\t<tr><td>2016-03-25   </td><td>Footwear     </td><td>0.001162475  </td><td>0            </td><td>dilli bazaaar</td><td>2.002865     </td></tr>\n",
       "\t<tr><td>2016-03-25   </td><td>Clothing     </td><td>0.002037833  </td><td>0            </td><td>Alisha       </td><td>2.503132     </td></tr>\n",
       "</tbody>\n",
       "</table>\n"
      ],
      "text/latex": [
       "\\begin{tabular}{r|llllll}\n",
       " crawl\\_timestamp & Col1 & retail\\_price & is\\_FK\\_Advantage\\_product & brand & Demand\\\\\n",
       "\\hline\n",
       "\t 2016-03-25    & Clothing      & 0.001687690   & 0             & Alisha        & 2.635884     \\\\\n",
       "\t 2016-03-25    & Footwear      & 0.001687690   & 0             & AW            & 2.002004     \\\\\n",
       "\t 2016-03-25    & Clothing      & 0.001162475   & 0             & Alisha        & 2.617978     \\\\\n",
       "\t 2016-03-25    & Clothing      & 0.002037833   & 0             & Alisha        & 2.503132     \\\\\n",
       "\t 2016-03-25    & Footwear      & 0.001162475   & 0             & dilli bazaaar & 2.002865     \\\\\n",
       "\t 2016-03-25    & Clothing      & 0.002037833   & 0             & Alisha        & 2.503132     \\\\\n",
       "\\end{tabular}\n"
      ],
      "text/markdown": [
       "\n",
       "crawl_timestamp | Col1 | retail_price | is_FK_Advantage_product | brand | Demand | \n",
       "|---|---|---|---|---|---|\n",
       "| 2016-03-25    | Clothing      | 0.001687690   | 0             | Alisha        | 2.635884      | \n",
       "| 2016-03-25    | Footwear      | 0.001687690   | 0             | AW            | 2.002004      | \n",
       "| 2016-03-25    | Clothing      | 0.001162475   | 0             | Alisha        | 2.617978      | \n",
       "| 2016-03-25    | Clothing      | 0.002037833   | 0             | Alisha        | 2.503132      | \n",
       "| 2016-03-25    | Footwear      | 0.001162475   | 0             | dilli bazaaar | 2.002865      | \n",
       "| 2016-03-25    | Clothing      | 0.002037833   | 0             | Alisha        | 2.503132      | \n",
       "\n",
       "\n"
      ],
      "text/plain": [
       "  crawl_timestamp Col1     retail_price is_FK_Advantage_product brand        \n",
       "1 2016-03-25      Clothing 0.001687690  0                       Alisha       \n",
       "2 2016-03-25      Footwear 0.001687690  0                       AW           \n",
       "3 2016-03-25      Clothing 0.001162475  0                       Alisha       \n",
       "4 2016-03-25      Clothing 0.002037833  0                       Alisha       \n",
       "5 2016-03-25      Footwear 0.001162475  0                       dilli bazaaar\n",
       "6 2016-03-25      Clothing 0.002037833  0                       Alisha       \n",
       "  Demand  \n",
       "1 2.635884\n",
       "2 2.002004\n",
       "3 2.617978\n",
       "4 2.503132\n",
       "5 2.002865\n",
       "6 2.503132"
      ]
     },
     "metadata": {},
     "output_type": "display_data"
    },
    {
     "ename": "ERROR",
     "evalue": "Error in eval(substitute(select), nl, parent.frame()): object 'brand' not found\n",
     "output_type": "error",
     "traceback": [
      "Error in eval(substitute(select), nl, parent.frame()): object 'brand' not found\nTraceback:\n",
      "1. subset(longley, select = -c(brand, crawl_timestamp))",
      "2. subset.data.frame(longley, select = -c(brand, crawl_timestamp))",
      "3. eval(substitute(select), nl, parent.frame())",
      "4. eval(substitute(select), nl, parent.frame())"
     ]
    }
   ],
   "source": [
    "head(df)\n",
    "subset(longley,select=-c(brand,crawl_timestamp)) -> longley"
   ]
  },
  {
   "cell_type": "code",
   "execution_count": 33,
   "metadata": {},
   "outputs": [],
   "source": [
    "model.matrix(~brand-1,Without_Discount) -> Interm\n",
    "cbind(subset(Without_Discount,select = c(\"crawl_timestamp\",\"retail_price\",\"is_FK_Advantage_product\",\"Demand\",\"Col1\")),Interm) -> Interming"
   ]
  },
  {
   "cell_type": "code",
   "execution_count": 35,
   "metadata": {},
   "outputs": [],
   "source": [
    "model.matrix(~Col1-1,Without_Discount) -> Interm1\n",
    "cbind(subset(Without_Discount,select = c(\"crawl_timestamp\",\"retail_price\",\"is_FK_Advantage_product\",\"Demand\")),Interm,Interm1) -> Interming"
   ]
  },
  {
   "cell_type": "code",
   "execution_count": 36,
   "metadata": {},
   "outputs": [
    {
     "data": {
      "text/html": [
       "<table>\n",
       "<thead><tr><th scope=col>crawl_timestamp</th><th scope=col>retail_price</th><th scope=col>is_FK_Advantage_product</th><th scope=col>Demand</th><th scope=col>brand</th><th scope=col>brand@home</th><th scope=col>brand1OAK</th><th scope=col>brand3a Autocare</th><th scope=col>brand3a AUTOCARE</th><th scope=col>brand3D Mat</th><th scope=col>...</th><th scope=col>Col1Clothing</th><th scope=col>Col1Footwear</th><th scope=col>Col1Home</th><th scope=col>Col1Jewellery</th><th scope=col>Col1Kitchen</th><th scope=col>Col1Mobiles</th><th scope=col>Col1Pens</th><th scope=col>Col1Tools</th><th scope=col>Col1Toys</th><th scope=col>Col1Watches</th></tr></thead>\n",
       "<tbody>\n",
       "\t<tr><td>2016-03-25  </td><td>0.0016876898</td><td>0           </td><td>2.635884    </td><td>0           </td><td>0           </td><td>0           </td><td>0           </td><td>0           </td><td>0           </td><td>...         </td><td>1           </td><td>0           </td><td>0           </td><td>0           </td><td>0           </td><td>0           </td><td>0           </td><td>0           </td><td>0           </td><td>0           </td></tr>\n",
       "\t<tr><td>2016-03-25  </td><td>0.0016876898</td><td>0           </td><td>2.002004    </td><td>0           </td><td>0           </td><td>0           </td><td>0           </td><td>0           </td><td>0           </td><td>...         </td><td>0           </td><td>1           </td><td>0           </td><td>0           </td><td>0           </td><td>0           </td><td>0           </td><td>0           </td><td>0           </td><td>0           </td></tr>\n",
       "\t<tr><td>2016-03-25  </td><td>0.0011624752</td><td>0           </td><td>2.617978    </td><td>0           </td><td>0           </td><td>0           </td><td>0           </td><td>0           </td><td>0           </td><td>...         </td><td>1           </td><td>0           </td><td>0           </td><td>0           </td><td>0           </td><td>0           </td><td>0           </td><td>0           </td><td>0           </td><td>0           </td></tr>\n",
       "\t<tr><td>2016-03-25  </td><td>0.0020378330</td><td>0           </td><td>2.503132    </td><td>0           </td><td>0           </td><td>0           </td><td>0           </td><td>0           </td><td>0           </td><td>...         </td><td>1           </td><td>0           </td><td>0           </td><td>0           </td><td>0           </td><td>0           </td><td>0           </td><td>0           </td><td>0           </td><td>0           </td></tr>\n",
       "\t<tr><td>2016-03-25  </td><td>0.0011624752</td><td>0           </td><td>2.002865    </td><td>0           </td><td>0           </td><td>0           </td><td>0           </td><td>0           </td><td>0           </td><td>...         </td><td>0           </td><td>1           </td><td>0           </td><td>0           </td><td>0           </td><td>0           </td><td>0           </td><td>0           </td><td>0           </td><td>0           </td></tr>\n",
       "\t<tr><td>2016-03-25  </td><td>0.0020378330</td><td>0           </td><td>2.503132    </td><td>0           </td><td>0           </td><td>0           </td><td>0           </td><td>0           </td><td>0           </td><td>...         </td><td>1           </td><td>0           </td><td>0           </td><td>0           </td><td>0           </td><td>0           </td><td>0           </td><td>0           </td><td>0           </td><td>0           </td></tr>\n",
       "\t<tr><td>2016-03-25  </td><td>0.0029569587</td><td>0           </td><td>1.814737    </td><td>0           </td><td>0           </td><td>0           </td><td>0           </td><td>0           </td><td>0           </td><td>...         </td><td>0           </td><td>1           </td><td>0           </td><td>0           </td><td>0           </td><td>0           </td><td>0           </td><td>0           </td><td>0           </td><td>0           </td></tr>\n",
       "\t<tr><td>2016-03-25  </td><td>0.0039636201</td><td>0           </td><td>2.526374    </td><td>0           </td><td>0           </td><td>0           </td><td>0           </td><td>0           </td><td>0           </td><td>...         </td><td>1           </td><td>0           </td><td>0           </td><td>0           </td><td>0           </td><td>0           </td><td>0           </td><td>0           </td><td>0           </td><td>0           </td></tr>\n",
       "\t<tr><td>2016-03-25  </td><td>0.0016876898</td><td>0           </td><td>2.635884    </td><td>0           </td><td>0           </td><td>0           </td><td>0           </td><td>0           </td><td>0           </td><td>...         </td><td>1           </td><td>0           </td><td>0           </td><td>0           </td><td>0           </td><td>0           </td><td>0           </td><td>0           </td><td>0           </td><td>0           </td></tr>\n",
       "\t<tr><td>2016-03-25  </td><td>0.0011624752</td><td>0           </td><td>1.000000    </td><td>0           </td><td>0           </td><td>0           </td><td>0           </td><td>0           </td><td>0           </td><td>...         </td><td>0           </td><td>0           </td><td>0           </td><td>0           </td><td>0           </td><td>0           </td><td>1           </td><td>0           </td><td>0           </td><td>0           </td></tr>\n",
       "\t<tr><td>2016-03-25  </td><td>0.0016876898</td><td>0           </td><td>2.635884    </td><td>0           </td><td>0           </td><td>0           </td><td>0           </td><td>0           </td><td>0           </td><td>...         </td><td>1           </td><td>0           </td><td>0           </td><td>0           </td><td>0           </td><td>0           </td><td>0           </td><td>0           </td><td>0           </td><td>0           </td></tr>\n",
       "\t<tr><td>2016-03-25  </td><td>0.0015126183</td><td>0           </td><td>2.002227    </td><td>0           </td><td>0           </td><td>0           </td><td>0           </td><td>0           </td><td>0           </td><td>...         </td><td>0           </td><td>1           </td><td>0           </td><td>0           </td><td>0           </td><td>0           </td><td>0           </td><td>0           </td><td>0           </td><td>0           </td></tr>\n",
       "\t<tr><td>2016-03-25  </td><td>0.0043137633</td><td>0           </td><td>2.501502    </td><td>0           </td><td>0           </td><td>0           </td><td>0           </td><td>0           </td><td>0           </td><td>...         </td><td>1           </td><td>0           </td><td>0           </td><td>0           </td><td>0           </td><td>0           </td><td>0           </td><td>0           </td><td>0           </td><td>0           </td></tr>\n",
       "\t<tr><td>2016-03-31  </td><td>0.0041404424</td><td>0           </td><td>2.309913    </td><td>0           </td><td>0           </td><td>0           </td><td>0           </td><td>0           </td><td>0           </td><td>...         </td><td>1           </td><td>0           </td><td>0           </td><td>0           </td><td>0           </td><td>0           </td><td>0           </td><td>0           </td><td>0           </td><td>0           </td></tr>\n",
       "\t<tr><td>2016-03-31  </td><td>0.0025647984</td><td>0           </td><td>1.000000    </td><td>0           </td><td>0           </td><td>0           </td><td>0           </td><td>0           </td><td>0           </td><td>...         </td><td>0           </td><td>1           </td><td>0           </td><td>0           </td><td>0           </td><td>0           </td><td>0           </td><td>0           </td><td>0           </td><td>0           </td></tr>\n",
       "\t<tr><td>2016-01-03  </td><td>0.0022129045</td><td>0           </td><td>1.858369    </td><td>1           </td><td>0           </td><td>0           </td><td>0           </td><td>0           </td><td>0           </td><td>...         </td><td>1           </td><td>0           </td><td>0           </td><td>0           </td><td>0           </td><td>0           </td><td>0           </td><td>0           </td><td>0           </td><td>0           </td></tr>\n",
       "\t<tr><td>2016-01-03  </td><td>0.0008123320</td><td>0           </td><td>1.279487    </td><td>1           </td><td>0           </td><td>0           </td><td>0           </td><td>0           </td><td>0           </td><td>...         </td><td>0           </td><td>0           </td><td>0           </td><td>0           </td><td>0           </td><td>0           </td><td>0           </td><td>0           </td><td>0           </td><td>0           </td></tr>\n",
       "\t<tr><td>2016-01-03  </td><td>0.0011624752</td><td>0           </td><td>2.262136    </td><td>1           </td><td>0           </td><td>0           </td><td>0           </td><td>0           </td><td>0           </td><td>...         </td><td>1           </td><td>0           </td><td>0           </td><td>0           </td><td>0           </td><td>0           </td><td>0           </td><td>0           </td><td>0           </td><td>0           </td></tr>\n",
       "\t<tr><td>2016-01-03  </td><td>0.0037885486</td><td>0           </td><td>1.294291    </td><td>1           </td><td>0           </td><td>0           </td><td>0           </td><td>0           </td><td>0           </td><td>...         </td><td>1           </td><td>0           </td><td>0           </td><td>0           </td><td>0           </td><td>0           </td><td>0           </td><td>0           </td><td>0           </td><td>0           </td></tr>\n",
       "\t<tr><td>2016-06-24  </td><td>0.0016876898</td><td>0           </td><td>1.429185    </td><td>0           </td><td>0           </td><td>0           </td><td>0           </td><td>0           </td><td>0           </td><td>...         </td><td>1           </td><td>0           </td><td>0           </td><td>0           </td><td>0           </td><td>0           </td><td>0           </td><td>0           </td><td>0           </td><td>0           </td></tr>\n",
       "\t<tr><td>2016-06-24  </td><td>0.0008123320</td><td>0           </td><td>1.814545    </td><td>0           </td><td>0           </td><td>0           </td><td>0           </td><td>0           </td><td>0           </td><td>...         </td><td>0           </td><td>0           </td><td>0           </td><td>0           </td><td>0           </td><td>0           </td><td>1           </td><td>0           </td><td>0           </td><td>0           </td></tr>\n",
       "\t<tr><td>2016-06-24  </td><td>0.0008123320</td><td>0           </td><td>1.814545    </td><td>0           </td><td>0           </td><td>0           </td><td>0           </td><td>0           </td><td>0           </td><td>...         </td><td>0           </td><td>0           </td><td>0           </td><td>0           </td><td>0           </td><td>0           </td><td>1           </td><td>0           </td><td>0           </td><td>0           </td></tr>\n",
       "\t<tr><td>2016-06-24  </td><td>0.0016894406</td><td>0           </td><td>1.194743    </td><td>0           </td><td>0           </td><td>0           </td><td>0           </td><td>0           </td><td>0           </td><td>...         </td><td>0           </td><td>0           </td><td>0           </td><td>0           </td><td>0           </td><td>0           </td><td>1           </td><td>0           </td><td>0           </td><td>0           </td></tr>\n",
       "\t<tr><td>2016-03-03  </td><td>0.0020395837</td><td>0           </td><td>1.716738    </td><td>0           </td><td>0           </td><td>0           </td><td>0           </td><td>0           </td><td>0           </td><td>...         </td><td>1           </td><td>0           </td><td>0           </td><td>0           </td><td>0           </td><td>0           </td><td>0           </td><td>0           </td><td>0           </td><td>0           </td></tr>\n",
       "\t<tr><td>2016-03-03  </td><td>0.0005514754</td><td>0           </td><td>1.174497    </td><td>0           </td><td>0           </td><td>0           </td><td>0           </td><td>0           </td><td>0           </td><td>...         </td><td>0           </td><td>0           </td><td>0           </td><td>0           </td><td>0           </td><td>0           </td><td>1           </td><td>0           </td><td>0           </td><td>0           </td></tr>\n",
       "\t<tr><td>2016-03-03  </td><td>0.0015126183</td><td>0           </td><td>1.000000    </td><td>0           </td><td>0           </td><td>0           </td><td>0           </td><td>0           </td><td>0           </td><td>...         </td><td>1           </td><td>0           </td><td>0           </td><td>0           </td><td>0           </td><td>0           </td><td>0           </td><td>0           </td><td>0           </td><td>0           </td></tr>\n",
       "\t<tr><td>2016-03-03  </td><td>0.0015126183</td><td>0           </td><td>1.176702    </td><td>0           </td><td>0           </td><td>0           </td><td>0           </td><td>0           </td><td>0           </td><td>...         </td><td>1           </td><td>0           </td><td>0           </td><td>0           </td><td>0           </td><td>0           </td><td>0           </td><td>0           </td><td>0           </td><td>0           </td></tr>\n",
       "\t<tr><td>2016-05-26  </td><td>0.0034384054</td><td>0           </td><td>1.481838    </td><td>0           </td><td>0           </td><td>0           </td><td>0           </td><td>0           </td><td>0           </td><td>...         </td><td>0           </td><td>1           </td><td>0           </td><td>0           </td><td>0           </td><td>0           </td><td>0           </td><td>0           </td><td>0           </td><td>0           </td></tr>\n",
       "\t<tr><td>2016-05-26  </td><td>0.0025630476</td><td>0           </td><td>1.000000    </td><td>0           </td><td>0           </td><td>0           </td><td>0           </td><td>0           </td><td>0           </td><td>...         </td><td>0           </td><td>0           </td><td>1           </td><td>0           </td><td>0           </td><td>0           </td><td>0           </td><td>0           </td><td>0           </td><td>0           </td></tr>\n",
       "\t<tr><td>2016-05-26  </td><td>0.0121919835</td><td>0           </td><td>3.685624    </td><td>0           </td><td>0           </td><td>0           </td><td>0           </td><td>0           </td><td>0           </td><td>...         </td><td>0           </td><td>0           </td><td>0           </td><td>0           </td><td>0           </td><td>0           </td><td>0           </td><td>0           </td><td>0           </td><td>0           </td></tr>\n",
       "\t<tr><td>...</td><td>...</td><td>...</td><td>...</td><td>...</td><td>...</td><td>...</td><td>...</td><td>...</td><td>...</td><td>   </td><td>...</td><td>...</td><td>...</td><td>...</td><td>...</td><td>...</td><td>...</td><td>...</td><td>...</td><td>...</td></tr>\n",
       "\t<tr><td>2015-12-01 </td><td>0.003263334</td><td>0          </td><td>2.001054   </td><td>1          </td><td>0          </td><td>0          </td><td>0          </td><td>0          </td><td>0          </td><td>...        </td><td>1          </td><td>0          </td><td>0          </td><td>0          </td><td>0          </td><td>0          </td><td>0          </td><td>0          </td><td>0          </td><td>0          </td></tr>\n",
       "\t<tr><td>2015-12-01 </td><td>0.002563048</td><td>0          </td><td>2.001335   </td><td>1          </td><td>0          </td><td>0          </td><td>0          </td><td>0          </td><td>0          </td><td>...        </td><td>1          </td><td>0          </td><td>0          </td><td>0          </td><td>0          </td><td>0          </td><td>0          </td><td>0          </td><td>0          </td><td>0          </td></tr>\n",
       "\t<tr><td>2015-12-01 </td><td>0.001687690</td><td>0          </td><td>1.429185   </td><td>1          </td><td>0          </td><td>0          </td><td>0          </td><td>0          </td><td>0          </td><td>...        </td><td>1          </td><td>0          </td><td>0          </td><td>0          </td><td>0          </td><td>0          </td><td>0          </td><td>0          </td><td>0          </td><td>0          </td></tr>\n",
       "\t<tr><td>2015-12-01 </td><td>0.001862761</td><td>0          </td><td>1.670213   </td><td>1          </td><td>0          </td><td>0          </td><td>0          </td><td>0          </td><td>0          </td><td>...        </td><td>1          </td><td>0          </td><td>0          </td><td>0          </td><td>0          </td><td>0          </td><td>0          </td><td>0          </td><td>0          </td><td>0          </td></tr>\n",
       "\t<tr><td>2015-12-01 </td><td>0.002212905</td><td>0          </td><td>1.429043   </td><td>1          </td><td>0          </td><td>0          </td><td>0          </td><td>0          </td><td>0          </td><td>...        </td><td>1          </td><td>0          </td><td>0          </td><td>0          </td><td>0          </td><td>0          </td><td>0          </td><td>0          </td><td>0          </td><td>0          </td></tr>\n",
       "\t<tr><td>2015-12-01 </td><td>0.004138692</td><td>0          </td><td>3.432046   </td><td>1          </td><td>0          </td><td>0          </td><td>0          </td><td>0          </td><td>0          </td><td>...        </td><td>1          </td><td>0          </td><td>0          </td><td>0          </td><td>0          </td><td>0          </td><td>0          </td><td>0          </td><td>0          </td><td>0          </td></tr>\n",
       "\t<tr><td>2015-12-01 </td><td>0.005119092</td><td>0          </td><td>3.298774   </td><td>1          </td><td>0          </td><td>0          </td><td>0          </td><td>0          </td><td>0          </td><td>...        </td><td>1          </td><td>0          </td><td>0          </td><td>0          </td><td>0          </td><td>0          </td><td>0          </td><td>0          </td><td>0          </td><td>0          </td></tr>\n",
       "\t<tr><td>2015-12-01 </td><td>0.002387976</td><td>0          </td><td>2.323920   </td><td>1          </td><td>0          </td><td>0          </td><td>0          </td><td>0          </td><td>0          </td><td>...        </td><td>1          </td><td>0          </td><td>0          </td><td>0          </td><td>0          </td><td>0          </td><td>0          </td><td>0          </td><td>0          </td><td>0          </td></tr>\n",
       "\t<tr><td>2015-12-01 </td><td>0.003088262</td><td>0          </td><td>2.001112   </td><td>1          </td><td>0          </td><td>0          </td><td>0          </td><td>0          </td><td>0          </td><td>...        </td><td>1          </td><td>0          </td><td>0          </td><td>0          </td><td>0          </td><td>0          </td><td>0          </td><td>0          </td><td>0          </td><td>0          </td></tr>\n",
       "\t<tr><td>2015-12-01 </td><td>0.004313763</td><td>0          </td><td>3.585366   </td><td>1          </td><td>0          </td><td>0          </td><td>0          </td><td>0          </td><td>0          </td><td>...        </td><td>1          </td><td>0          </td><td>0          </td><td>0          </td><td>0          </td><td>0          </td><td>0          </td><td>0          </td><td>0          </td><td>0          </td></tr>\n",
       "\t<tr><td>2015-12-01 </td><td>0.002212905</td><td>0          </td><td>1.667522   </td><td>1          </td><td>0          </td><td>0          </td><td>0          </td><td>0          </td><td>0          </td><td>...        </td><td>1          </td><td>0          </td><td>0          </td><td>0          </td><td>0          </td><td>0          </td><td>0          </td><td>0          </td><td>0          </td><td>0          </td></tr>\n",
       "\t<tr><td>2015-12-01 </td><td>0.002563048</td><td>0          </td><td>1.500501   </td><td>1          </td><td>0          </td><td>0          </td><td>0          </td><td>0          </td><td>0          </td><td>...        </td><td>1          </td><td>0          </td><td>0          </td><td>0          </td><td>0          </td><td>0          </td><td>0          </td><td>0          </td><td>0          </td><td>0          </td></tr>\n",
       "\t<tr><td>2015-12-01 </td><td>0.001775226</td><td>0          </td><td>1.429155   </td><td>1          </td><td>0          </td><td>0          </td><td>0          </td><td>0          </td><td>0          </td><td>...        </td><td>1          </td><td>0          </td><td>0          </td><td>0          </td><td>0          </td><td>0          </td><td>0          </td><td>0          </td><td>0          </td><td>0          </td></tr>\n",
       "\t<tr><td>2015-12-01 </td><td>0.002563048</td><td>0          </td><td>3.004008   </td><td>1          </td><td>0          </td><td>0          </td><td>0          </td><td>0          </td><td>0          </td><td>...        </td><td>0          </td><td>1          </td><td>0          </td><td>0          </td><td>0          </td><td>0          </td><td>0          </td><td>0          </td><td>0          </td><td>0          </td></tr>\n",
       "\t<tr><td>2015-12-01 </td><td>0.002037833</td><td>0          </td><td>2.670379   </td><td>1          </td><td>0          </td><td>0          </td><td>0          </td><td>0          </td><td>0          </td><td>...        </td><td>0          </td><td>1          </td><td>0          </td><td>0          </td><td>0          </td><td>0          </td><td>0          </td><td>0          </td><td>0          </td><td>0          </td></tr>\n",
       "\t<tr><td>2015-12-01 </td><td>0.003613477</td><td>0          </td><td>1.428863   </td><td>1          </td><td>0          </td><td>0          </td><td>0          </td><td>0          </td><td>0          </td><td>...        </td><td>0          </td><td>1          </td><td>0          </td><td>0          </td><td>0          </td><td>0          </td><td>0          </td><td>0          </td><td>0          </td><td>0          </td></tr>\n",
       "\t<tr><td>2015-12-01 </td><td>0.002563048</td><td>0          </td><td>3.004008   </td><td>1          </td><td>0          </td><td>0          </td><td>0          </td><td>0          </td><td>0          </td><td>...        </td><td>0          </td><td>1          </td><td>0          </td><td>0          </td><td>0          </td><td>0          </td><td>0          </td><td>0          </td><td>0          </td><td>0          </td></tr>\n",
       "\t<tr><td>2015-12-01 </td><td>0.004838978</td><td>0          </td><td>2.813065   </td><td>1          </td><td>0          </td><td>0          </td><td>0          </td><td>0          </td><td>0          </td><td>...        </td><td>0          </td><td>1          </td><td>0          </td><td>0          </td><td>0          </td><td>0          </td><td>0          </td><td>0          </td><td>0          </td><td>0          </td></tr>\n",
       "\t<tr><td>2015-12-01 </td><td>0.002212905</td><td>0          </td><td>1.998462   </td><td>1          </td><td>0          </td><td>0          </td><td>0          </td><td>0          </td><td>0          </td><td>...        </td><td>0          </td><td>1          </td><td>0          </td><td>0          </td><td>0          </td><td>0          </td><td>0          </td><td>0          </td><td>0          </td><td>0          </td></tr>\n",
       "\t<tr><td>2015-12-01 </td><td>0.002563048</td><td>0          </td><td>3.004008   </td><td>1          </td><td>0          </td><td>0          </td><td>0          </td><td>0          </td><td>0          </td><td>...        </td><td>0          </td><td>1          </td><td>0          </td><td>0          </td><td>0          </td><td>0          </td><td>0          </td><td>0          </td><td>0          </td><td>0          </td></tr>\n",
       "\t<tr><td>2015-12-01 </td><td>0.002827406</td><td>0          </td><td>1.000000   </td><td>1          </td><td>0          </td><td>0          </td><td>0          </td><td>0          </td><td>0          </td><td>...        </td><td>0          </td><td>1          </td><td>0          </td><td>0          </td><td>0          </td><td>0          </td><td>0          </td><td>0          </td><td>0          </td><td>0          </td></tr>\n",
       "\t<tr><td>2015-12-01 </td><td>0.002212905</td><td>0          </td><td>1.429043   </td><td>1          </td><td>0          </td><td>0          </td><td>0          </td><td>0          </td><td>0          </td><td>...        </td><td>0          </td><td>1          </td><td>0          </td><td>0          </td><td>0          </td><td>0          </td><td>0          </td><td>0          </td><td>0          </td><td>0          </td></tr>\n",
       "\t<tr><td>2015-12-01 </td><td>0.001687690</td><td>0          </td><td>1.429185   </td><td>1          </td><td>0          </td><td>0          </td><td>0          </td><td>0          </td><td>0          </td><td>...        </td><td>0          </td><td>1          </td><td>0          </td><td>0          </td><td>0          </td><td>0          </td><td>0          </td><td>0          </td><td>0          </td><td>0          </td></tr>\n",
       "\t<tr><td>2015-12-01 </td><td>0.003263334</td><td>0          </td><td>3.337434   </td><td>1          </td><td>0          </td><td>0          </td><td>0          </td><td>0          </td><td>0          </td><td>...        </td><td>0          </td><td>1          </td><td>0          </td><td>0          </td><td>0          </td><td>0          </td><td>0          </td><td>0          </td><td>0          </td><td>0          </td></tr>\n",
       "\t<tr><td>2015-12-01 </td><td>0.001512618</td><td>0          </td><td>2.575931   </td><td>1          </td><td>0          </td><td>0          </td><td>0          </td><td>0          </td><td>0          </td><td>...        </td><td>0          </td><td>1          </td><td>0          </td><td>0          </td><td>0          </td><td>0          </td><td>0          </td><td>0          </td><td>0          </td><td>0          </td></tr>\n",
       "\t<tr><td>2015-12-01 </td><td>0.001862761</td><td>0          </td><td>1.222469   </td><td>1          </td><td>0          </td><td>0          </td><td>0          </td><td>0          </td><td>0          </td><td>...        </td><td>0          </td><td>1          </td><td>0          </td><td>0          </td><td>0          </td><td>0          </td><td>0          </td><td>0          </td><td>0          </td><td>0          </td></tr>\n",
       "\t<tr><td>2015-12-01 </td><td>0.001862761</td><td>0          </td><td>1.429129   </td><td>1          </td><td>0          </td><td>0          </td><td>0          </td><td>0          </td><td>0          </td><td>...        </td><td>0          </td><td>1          </td><td>0          </td><td>0          </td><td>0          </td><td>0          </td><td>0          </td><td>0          </td><td>0          </td><td>0          </td></tr>\n",
       "\t<tr><td>2015-12-01 </td><td>0.004488835</td><td>0          </td><td>3.336329   </td><td>1          </td><td>0          </td><td>0          </td><td>0          </td><td>0          </td><td>0          </td><td>...        </td><td>0          </td><td>1          </td><td>0          </td><td>0          </td><td>0          </td><td>0          </td><td>0          </td><td>0          </td><td>0          </td><td>0          </td></tr>\n",
       "\t<tr><td>2015-12-01 </td><td>0.001512618</td><td>0          </td><td>1.000000   </td><td>1          </td><td>0          </td><td>0          </td><td>0          </td><td>0          </td><td>0          </td><td>...        </td><td>0          </td><td>1          </td><td>0          </td><td>0          </td><td>0          </td><td>0          </td><td>0          </td><td>0          </td><td>0          </td><td>0          </td></tr>\n",
       "\t<tr><td>2015-12-01 </td><td>0.003088262</td><td>0          </td><td>3.605210   </td><td>1          </td><td>0          </td><td>0          </td><td>0          </td><td>0          </td><td>0          </td><td>...        </td><td>0          </td><td>1          </td><td>0          </td><td>0          </td><td>0          </td><td>0          </td><td>0          </td><td>0          </td><td>0          </td><td>0          </td></tr>\n",
       "</tbody>\n",
       "</table>\n"
      ],
      "text/latex": [
       "\\begin{tabular}{r|lllllllllllllllllllllllllllllllllllllllllllllllllllllllllllllllllllllllllllllllllllllllllllllllllllllllllllllllllllllllllllllllllllllllllllllllllllllllllllllllllllllllllllllllllllllllllllllllllllllllllllllllllllllllllllllllllllllllllllllllllllllllllllllllllllllllllllllllllllllllllllllllllllllllllllllllllllllllllllllllllllllllllllllllllllllllllllllllllllllllllllllllllllllllllllllllllllllllllllllllllllllllllllllllllllllllllllllllllllllllllllllllllllllllllllllllllllllllllllllllllllllllllllllllllllllllllllllllllllllllllllllllllllllllllllllllllllllllllllllllllllllllllllllllllllllllllllllllllllllllllllllllllllllllllllllllllllllllllllllllllllllllllllllllllllllllllllllllllllllllllllllllllllllllllllllllllllllllllllllllllllllllllllllllllllllllllllllllllllllllllllllllllllllllllllllllllllllllllllllllllllllllllllllllllllllllllllllllllllllllllllllllllllllllllllllllllllllllllllllllllllllllllllllllllllllllllllllllllllllllllllllllllllllllllllllllllllllllllllllllllllllllllllllllllllllllllllllllllllllllllllllllllllllllllllllllllllllllllllllllllllllllllllllllllllllllllllllllllllllllllllllllllllllllllllllllllllllllllllllllllllllllllllllllllllllllllllllllllllllllllllllllllllllllllllllllllllllllllllllllllllllllllllllllllllllllllllllllllllllllllllllllllllllllllllllllllllllllllllllllllllllllllllllllllllllllllllllllllllllllllllllllllllllllllllllllllllllllllllllllllllllllllllllllllllllllllllllllllllllllllllllllllllllllllllllllllllllllllllllllllllllllllllllllllllllllllllllllllllllllllllllllllllllllllllllllllllllllllllllllllllllllllllllllllllllllllllllllllllllllllllllllllllllllllllllllllllllllllllllllllllllllllllllllllllllllllllllllllllllllllllllllllllllllllllllllllllllllllllllllllllllllllllllllllllllllllllllllllllllllllllllllllllllllllllllllllllllllllllllllllllllllllllllllllllllllllllllllllllllllllllllllllllllllllllllllllllllllllllllllllllllllllllllllllllllllllllllllllllllllllllllllllllllllllllllllllllllllllllllllllllllllllllllllllllllllllllllllllllllllllllllllllllllllllllllllllllllllllllllllllllllllllllllllllllllllllllllllllllllllllllllllllllllllllllllllllllllllllllllllllllllllllllllllllllllllllllllllllllllllllllllllllllllllllllllllllllllllllllllllllllllllllllllllllllllllllllllllllllllllllllllllllllllllllllllllllllllllllllllllllllllllllllllllllllllllllllllllllllllllllllllllllllllllllllllllllllllllllllllllllllllllllllllllllllllllllllllllllllllllllllllllllllllllllllllllllllllllllllllllllllllllllllllllllllllllllllllllllllllllllllllllllllllllllllllllllllllllllllllllllllllllllllllllllllllllllllllllllllllllllllllllllllllllllllllllllllllllllllllllllllllllllllllllllllllllllllllllllllllllllllllllllllllllllllllllllllllllllllllllllllllllllllllllllllllllllllllllllllllllllllllllllllllllllllllllllllllllllllllllllllllllllllllllllllllllllllllllllllllllllllllllllllllllllllllllllllllllllllllllllllllllllllllllllllllllllllllllllllllllllllllllllllllllllllllllllllllllllllllllllllllllllllllllllllllllllll}\n",
       " crawl\\_timestamp & retail\\_price & is\\_FK\\_Advantage\\_product & Demand & brand & brand@home & brand1OAK & brand3a Autocare & brand3a AUTOCARE & brand3D Mat & ... & Col1Clothing & Col1Footwear & Col1Home & Col1Jewellery & Col1Kitchen & Col1Mobiles & Col1Pens & Col1Tools & Col1Toys & Col1Watches\\\\\n",
       "\\hline\n",
       "\t 2016-03-25   & 0.0016876898 & 0            & 2.635884     & 0            & 0            & 0            & 0            & 0            & 0            & ...          & 1            & 0            & 0            & 0            & 0            & 0            & 0            & 0            & 0            & 0           \\\\\n",
       "\t 2016-03-25   & 0.0016876898 & 0            & 2.002004     & 0            & 0            & 0            & 0            & 0            & 0            & ...          & 0            & 1            & 0            & 0            & 0            & 0            & 0            & 0            & 0            & 0           \\\\\n",
       "\t 2016-03-25   & 0.0011624752 & 0            & 2.617978     & 0            & 0            & 0            & 0            & 0            & 0            & ...          & 1            & 0            & 0            & 0            & 0            & 0            & 0            & 0            & 0            & 0           \\\\\n",
       "\t 2016-03-25   & 0.0020378330 & 0            & 2.503132     & 0            & 0            & 0            & 0            & 0            & 0            & ...          & 1            & 0            & 0            & 0            & 0            & 0            & 0            & 0            & 0            & 0           \\\\\n",
       "\t 2016-03-25   & 0.0011624752 & 0            & 2.002865     & 0            & 0            & 0            & 0            & 0            & 0            & ...          & 0            & 1            & 0            & 0            & 0            & 0            & 0            & 0            & 0            & 0           \\\\\n",
       "\t 2016-03-25   & 0.0020378330 & 0            & 2.503132     & 0            & 0            & 0            & 0            & 0            & 0            & ...          & 1            & 0            & 0            & 0            & 0            & 0            & 0            & 0            & 0            & 0           \\\\\n",
       "\t 2016-03-25   & 0.0029569587 & 0            & 1.814737     & 0            & 0            & 0            & 0            & 0            & 0            & ...          & 0            & 1            & 0            & 0            & 0            & 0            & 0            & 0            & 0            & 0           \\\\\n",
       "\t 2016-03-25   & 0.0039636201 & 0            & 2.526374     & 0            & 0            & 0            & 0            & 0            & 0            & ...          & 1            & 0            & 0            & 0            & 0            & 0            & 0            & 0            & 0            & 0           \\\\\n",
       "\t 2016-03-25   & 0.0016876898 & 0            & 2.635884     & 0            & 0            & 0            & 0            & 0            & 0            & ...          & 1            & 0            & 0            & 0            & 0            & 0            & 0            & 0            & 0            & 0           \\\\\n",
       "\t 2016-03-25   & 0.0011624752 & 0            & 1.000000     & 0            & 0            & 0            & 0            & 0            & 0            & ...          & 0            & 0            & 0            & 0            & 0            & 0            & 1            & 0            & 0            & 0           \\\\\n",
       "\t 2016-03-25   & 0.0016876898 & 0            & 2.635884     & 0            & 0            & 0            & 0            & 0            & 0            & ...          & 1            & 0            & 0            & 0            & 0            & 0            & 0            & 0            & 0            & 0           \\\\\n",
       "\t 2016-03-25   & 0.0015126183 & 0            & 2.002227     & 0            & 0            & 0            & 0            & 0            & 0            & ...          & 0            & 1            & 0            & 0            & 0            & 0            & 0            & 0            & 0            & 0           \\\\\n",
       "\t 2016-03-25   & 0.0043137633 & 0            & 2.501502     & 0            & 0            & 0            & 0            & 0            & 0            & ...          & 1            & 0            & 0            & 0            & 0            & 0            & 0            & 0            & 0            & 0           \\\\\n",
       "\t 2016-03-31   & 0.0041404424 & 0            & 2.309913     & 0            & 0            & 0            & 0            & 0            & 0            & ...          & 1            & 0            & 0            & 0            & 0            & 0            & 0            & 0            & 0            & 0           \\\\\n",
       "\t 2016-03-31   & 0.0025647984 & 0            & 1.000000     & 0            & 0            & 0            & 0            & 0            & 0            & ...          & 0            & 1            & 0            & 0            & 0            & 0            & 0            & 0            & 0            & 0           \\\\\n",
       "\t 2016-01-03   & 0.0022129045 & 0            & 1.858369     & 1            & 0            & 0            & 0            & 0            & 0            & ...          & 1            & 0            & 0            & 0            & 0            & 0            & 0            & 0            & 0            & 0           \\\\\n",
       "\t 2016-01-03   & 0.0008123320 & 0            & 1.279487     & 1            & 0            & 0            & 0            & 0            & 0            & ...          & 0            & 0            & 0            & 0            & 0            & 0            & 0            & 0            & 0            & 0           \\\\\n",
       "\t 2016-01-03   & 0.0011624752 & 0            & 2.262136     & 1            & 0            & 0            & 0            & 0            & 0            & ...          & 1            & 0            & 0            & 0            & 0            & 0            & 0            & 0            & 0            & 0           \\\\\n",
       "\t 2016-01-03   & 0.0037885486 & 0            & 1.294291     & 1            & 0            & 0            & 0            & 0            & 0            & ...          & 1            & 0            & 0            & 0            & 0            & 0            & 0            & 0            & 0            & 0           \\\\\n",
       "\t 2016-06-24   & 0.0016876898 & 0            & 1.429185     & 0            & 0            & 0            & 0            & 0            & 0            & ...          & 1            & 0            & 0            & 0            & 0            & 0            & 0            & 0            & 0            & 0           \\\\\n",
       "\t 2016-06-24   & 0.0008123320 & 0            & 1.814545     & 0            & 0            & 0            & 0            & 0            & 0            & ...          & 0            & 0            & 0            & 0            & 0            & 0            & 1            & 0            & 0            & 0           \\\\\n",
       "\t 2016-06-24   & 0.0008123320 & 0            & 1.814545     & 0            & 0            & 0            & 0            & 0            & 0            & ...          & 0            & 0            & 0            & 0            & 0            & 0            & 1            & 0            & 0            & 0           \\\\\n",
       "\t 2016-06-24   & 0.0016894406 & 0            & 1.194743     & 0            & 0            & 0            & 0            & 0            & 0            & ...          & 0            & 0            & 0            & 0            & 0            & 0            & 1            & 0            & 0            & 0           \\\\\n",
       "\t 2016-03-03   & 0.0020395837 & 0            & 1.716738     & 0            & 0            & 0            & 0            & 0            & 0            & ...          & 1            & 0            & 0            & 0            & 0            & 0            & 0            & 0            & 0            & 0           \\\\\n",
       "\t 2016-03-03   & 0.0005514754 & 0            & 1.174497     & 0            & 0            & 0            & 0            & 0            & 0            & ...          & 0            & 0            & 0            & 0            & 0            & 0            & 1            & 0            & 0            & 0           \\\\\n",
       "\t 2016-03-03   & 0.0015126183 & 0            & 1.000000     & 0            & 0            & 0            & 0            & 0            & 0            & ...          & 1            & 0            & 0            & 0            & 0            & 0            & 0            & 0            & 0            & 0           \\\\\n",
       "\t 2016-03-03   & 0.0015126183 & 0            & 1.176702     & 0            & 0            & 0            & 0            & 0            & 0            & ...          & 1            & 0            & 0            & 0            & 0            & 0            & 0            & 0            & 0            & 0           \\\\\n",
       "\t 2016-05-26   & 0.0034384054 & 0            & 1.481838     & 0            & 0            & 0            & 0            & 0            & 0            & ...          & 0            & 1            & 0            & 0            & 0            & 0            & 0            & 0            & 0            & 0           \\\\\n",
       "\t 2016-05-26   & 0.0025630476 & 0            & 1.000000     & 0            & 0            & 0            & 0            & 0            & 0            & ...          & 0            & 0            & 1            & 0            & 0            & 0            & 0            & 0            & 0            & 0           \\\\\n",
       "\t 2016-05-26   & 0.0121919835 & 0            & 3.685624     & 0            & 0            & 0            & 0            & 0            & 0            & ...          & 0            & 0            & 0            & 0            & 0            & 0            & 0            & 0            & 0            & 0           \\\\\n",
       "\t ... & ... & ... & ... & ... & ... & ... & ... & ... & ... &     & ... & ... & ... & ... & ... & ... & ... & ... & ... & ...\\\\\n",
       "\t 2015-12-01  & 0.003263334 & 0           & 2.001054    & 1           & 0           & 0           & 0           & 0           & 0           & ...         & 1           & 0           & 0           & 0           & 0           & 0           & 0           & 0           & 0           & 0          \\\\\n",
       "\t 2015-12-01  & 0.002563048 & 0           & 2.001335    & 1           & 0           & 0           & 0           & 0           & 0           & ...         & 1           & 0           & 0           & 0           & 0           & 0           & 0           & 0           & 0           & 0          \\\\\n",
       "\t 2015-12-01  & 0.001687690 & 0           & 1.429185    & 1           & 0           & 0           & 0           & 0           & 0           & ...         & 1           & 0           & 0           & 0           & 0           & 0           & 0           & 0           & 0           & 0          \\\\\n",
       "\t 2015-12-01  & 0.001862761 & 0           & 1.670213    & 1           & 0           & 0           & 0           & 0           & 0           & ...         & 1           & 0           & 0           & 0           & 0           & 0           & 0           & 0           & 0           & 0          \\\\\n",
       "\t 2015-12-01  & 0.002212905 & 0           & 1.429043    & 1           & 0           & 0           & 0           & 0           & 0           & ...         & 1           & 0           & 0           & 0           & 0           & 0           & 0           & 0           & 0           & 0          \\\\\n",
       "\t 2015-12-01  & 0.004138692 & 0           & 3.432046    & 1           & 0           & 0           & 0           & 0           & 0           & ...         & 1           & 0           & 0           & 0           & 0           & 0           & 0           & 0           & 0           & 0          \\\\\n",
       "\t 2015-12-01  & 0.005119092 & 0           & 3.298774    & 1           & 0           & 0           & 0           & 0           & 0           & ...         & 1           & 0           & 0           & 0           & 0           & 0           & 0           & 0           & 0           & 0          \\\\\n",
       "\t 2015-12-01  & 0.002387976 & 0           & 2.323920    & 1           & 0           & 0           & 0           & 0           & 0           & ...         & 1           & 0           & 0           & 0           & 0           & 0           & 0           & 0           & 0           & 0          \\\\\n",
       "\t 2015-12-01  & 0.003088262 & 0           & 2.001112    & 1           & 0           & 0           & 0           & 0           & 0           & ...         & 1           & 0           & 0           & 0           & 0           & 0           & 0           & 0           & 0           & 0          \\\\\n",
       "\t 2015-12-01  & 0.004313763 & 0           & 3.585366    & 1           & 0           & 0           & 0           & 0           & 0           & ...         & 1           & 0           & 0           & 0           & 0           & 0           & 0           & 0           & 0           & 0          \\\\\n",
       "\t 2015-12-01  & 0.002212905 & 0           & 1.667522    & 1           & 0           & 0           & 0           & 0           & 0           & ...         & 1           & 0           & 0           & 0           & 0           & 0           & 0           & 0           & 0           & 0          \\\\\n",
       "\t 2015-12-01  & 0.002563048 & 0           & 1.500501    & 1           & 0           & 0           & 0           & 0           & 0           & ...         & 1           & 0           & 0           & 0           & 0           & 0           & 0           & 0           & 0           & 0          \\\\\n",
       "\t 2015-12-01  & 0.001775226 & 0           & 1.429155    & 1           & 0           & 0           & 0           & 0           & 0           & ...         & 1           & 0           & 0           & 0           & 0           & 0           & 0           & 0           & 0           & 0          \\\\\n",
       "\t 2015-12-01  & 0.002563048 & 0           & 3.004008    & 1           & 0           & 0           & 0           & 0           & 0           & ...         & 0           & 1           & 0           & 0           & 0           & 0           & 0           & 0           & 0           & 0          \\\\\n",
       "\t 2015-12-01  & 0.002037833 & 0           & 2.670379    & 1           & 0           & 0           & 0           & 0           & 0           & ...         & 0           & 1           & 0           & 0           & 0           & 0           & 0           & 0           & 0           & 0          \\\\\n",
       "\t 2015-12-01  & 0.003613477 & 0           & 1.428863    & 1           & 0           & 0           & 0           & 0           & 0           & ...         & 0           & 1           & 0           & 0           & 0           & 0           & 0           & 0           & 0           & 0          \\\\\n",
       "\t 2015-12-01  & 0.002563048 & 0           & 3.004008    & 1           & 0           & 0           & 0           & 0           & 0           & ...         & 0           & 1           & 0           & 0           & 0           & 0           & 0           & 0           & 0           & 0          \\\\\n",
       "\t 2015-12-01  & 0.004838978 & 0           & 2.813065    & 1           & 0           & 0           & 0           & 0           & 0           & ...         & 0           & 1           & 0           & 0           & 0           & 0           & 0           & 0           & 0           & 0          \\\\\n",
       "\t 2015-12-01  & 0.002212905 & 0           & 1.998462    & 1           & 0           & 0           & 0           & 0           & 0           & ...         & 0           & 1           & 0           & 0           & 0           & 0           & 0           & 0           & 0           & 0          \\\\\n",
       "\t 2015-12-01  & 0.002563048 & 0           & 3.004008    & 1           & 0           & 0           & 0           & 0           & 0           & ...         & 0           & 1           & 0           & 0           & 0           & 0           & 0           & 0           & 0           & 0          \\\\\n",
       "\t 2015-12-01  & 0.002827406 & 0           & 1.000000    & 1           & 0           & 0           & 0           & 0           & 0           & ...         & 0           & 1           & 0           & 0           & 0           & 0           & 0           & 0           & 0           & 0          \\\\\n",
       "\t 2015-12-01  & 0.002212905 & 0           & 1.429043    & 1           & 0           & 0           & 0           & 0           & 0           & ...         & 0           & 1           & 0           & 0           & 0           & 0           & 0           & 0           & 0           & 0          \\\\\n",
       "\t 2015-12-01  & 0.001687690 & 0           & 1.429185    & 1           & 0           & 0           & 0           & 0           & 0           & ...         & 0           & 1           & 0           & 0           & 0           & 0           & 0           & 0           & 0           & 0          \\\\\n",
       "\t 2015-12-01  & 0.003263334 & 0           & 3.337434    & 1           & 0           & 0           & 0           & 0           & 0           & ...         & 0           & 1           & 0           & 0           & 0           & 0           & 0           & 0           & 0           & 0          \\\\\n",
       "\t 2015-12-01  & 0.001512618 & 0           & 2.575931    & 1           & 0           & 0           & 0           & 0           & 0           & ...         & 0           & 1           & 0           & 0           & 0           & 0           & 0           & 0           & 0           & 0          \\\\\n",
       "\t 2015-12-01  & 0.001862761 & 0           & 1.222469    & 1           & 0           & 0           & 0           & 0           & 0           & ...         & 0           & 1           & 0           & 0           & 0           & 0           & 0           & 0           & 0           & 0          \\\\\n",
       "\t 2015-12-01  & 0.001862761 & 0           & 1.429129    & 1           & 0           & 0           & 0           & 0           & 0           & ...         & 0           & 1           & 0           & 0           & 0           & 0           & 0           & 0           & 0           & 0          \\\\\n",
       "\t 2015-12-01  & 0.004488835 & 0           & 3.336329    & 1           & 0           & 0           & 0           & 0           & 0           & ...         & 0           & 1           & 0           & 0           & 0           & 0           & 0           & 0           & 0           & 0          \\\\\n",
       "\t 2015-12-01  & 0.001512618 & 0           & 1.000000    & 1           & 0           & 0           & 0           & 0           & 0           & ...         & 0           & 1           & 0           & 0           & 0           & 0           & 0           & 0           & 0           & 0          \\\\\n",
       "\t 2015-12-01  & 0.003088262 & 0           & 3.605210    & 1           & 0           & 0           & 0           & 0           & 0           & ...         & 0           & 1           & 0           & 0           & 0           & 0           & 0           & 0           & 0           & 0          \\\\\n",
       "\\end{tabular}\n"
      ],
      "text/markdown": [
       "\n",
       "crawl_timestamp | retail_price | is_FK_Advantage_product | Demand | brand | brand@home | brand1OAK | brand3a Autocare | brand3a AUTOCARE | brand3D Mat | ... | Col1Clothing | Col1Footwear | Col1Home | Col1Jewellery | Col1Kitchen | Col1Mobiles | Col1Pens | Col1Tools | Col1Toys | Col1Watches | \n",
       "|---|---|---|---|---|---|---|---|---|---|---|---|---|---|---|---|---|---|---|---|---|---|---|---|---|---|---|---|---|---|---|---|---|---|---|---|---|---|---|---|---|---|---|---|---|---|---|---|---|---|---|---|---|---|---|---|---|---|---|---|---|\n",
       "| 2016-03-25   | 0.0016876898 | 0            | 2.635884     | 0            | 0            | 0            | 0            | 0            | 0            | ...          | 1            | 0            | 0            | 0            | 0            | 0            | 0            | 0            | 0            | 0            | \n",
       "| 2016-03-25   | 0.0016876898 | 0            | 2.002004     | 0            | 0            | 0            | 0            | 0            | 0            | ...          | 0            | 1            | 0            | 0            | 0            | 0            | 0            | 0            | 0            | 0            | \n",
       "| 2016-03-25   | 0.0011624752 | 0            | 2.617978     | 0            | 0            | 0            | 0            | 0            | 0            | ...          | 1            | 0            | 0            | 0            | 0            | 0            | 0            | 0            | 0            | 0            | \n",
       "| 2016-03-25   | 0.0020378330 | 0            | 2.503132     | 0            | 0            | 0            | 0            | 0            | 0            | ...          | 1            | 0            | 0            | 0            | 0            | 0            | 0            | 0            | 0            | 0            | \n",
       "| 2016-03-25   | 0.0011624752 | 0            | 2.002865     | 0            | 0            | 0            | 0            | 0            | 0            | ...          | 0            | 1            | 0            | 0            | 0            | 0            | 0            | 0            | 0            | 0            | \n",
       "| 2016-03-25   | 0.0020378330 | 0            | 2.503132     | 0            | 0            | 0            | 0            | 0            | 0            | ...          | 1            | 0            | 0            | 0            | 0            | 0            | 0            | 0            | 0            | 0            | \n",
       "| 2016-03-25   | 0.0029569587 | 0            | 1.814737     | 0            | 0            | 0            | 0            | 0            | 0            | ...          | 0            | 1            | 0            | 0            | 0            | 0            | 0            | 0            | 0            | 0            | \n",
       "| 2016-03-25   | 0.0039636201 | 0            | 2.526374     | 0            | 0            | 0            | 0            | 0            | 0            | ...          | 1            | 0            | 0            | 0            | 0            | 0            | 0            | 0            | 0            | 0            | \n",
       "| 2016-03-25   | 0.0016876898 | 0            | 2.635884     | 0            | 0            | 0            | 0            | 0            | 0            | ...          | 1            | 0            | 0            | 0            | 0            | 0            | 0            | 0            | 0            | 0            | \n",
       "| 2016-03-25   | 0.0011624752 | 0            | 1.000000     | 0            | 0            | 0            | 0            | 0            | 0            | ...          | 0            | 0            | 0            | 0            | 0            | 0            | 1            | 0            | 0            | 0            | \n",
       "| 2016-03-25   | 0.0016876898 | 0            | 2.635884     | 0            | 0            | 0            | 0            | 0            | 0            | ...          | 1            | 0            | 0            | 0            | 0            | 0            | 0            | 0            | 0            | 0            | \n",
       "| 2016-03-25   | 0.0015126183 | 0            | 2.002227     | 0            | 0            | 0            | 0            | 0            | 0            | ...          | 0            | 1            | 0            | 0            | 0            | 0            | 0            | 0            | 0            | 0            | \n",
       "| 2016-03-25   | 0.0043137633 | 0            | 2.501502     | 0            | 0            | 0            | 0            | 0            | 0            | ...          | 1            | 0            | 0            | 0            | 0            | 0            | 0            | 0            | 0            | 0            | \n",
       "| 2016-03-31   | 0.0041404424 | 0            | 2.309913     | 0            | 0            | 0            | 0            | 0            | 0            | ...          | 1            | 0            | 0            | 0            | 0            | 0            | 0            | 0            | 0            | 0            | \n",
       "| 2016-03-31   | 0.0025647984 | 0            | 1.000000     | 0            | 0            | 0            | 0            | 0            | 0            | ...          | 0            | 1            | 0            | 0            | 0            | 0            | 0            | 0            | 0            | 0            | \n",
       "| 2016-01-03   | 0.0022129045 | 0            | 1.858369     | 1            | 0            | 0            | 0            | 0            | 0            | ...          | 1            | 0            | 0            | 0            | 0            | 0            | 0            | 0            | 0            | 0            | \n",
       "| 2016-01-03   | 0.0008123320 | 0            | 1.279487     | 1            | 0            | 0            | 0            | 0            | 0            | ...          | 0            | 0            | 0            | 0            | 0            | 0            | 0            | 0            | 0            | 0            | \n",
       "| 2016-01-03   | 0.0011624752 | 0            | 2.262136     | 1            | 0            | 0            | 0            | 0            | 0            | ...          | 1            | 0            | 0            | 0            | 0            | 0            | 0            | 0            | 0            | 0            | \n",
       "| 2016-01-03   | 0.0037885486 | 0            | 1.294291     | 1            | 0            | 0            | 0            | 0            | 0            | ...          | 1            | 0            | 0            | 0            | 0            | 0            | 0            | 0            | 0            | 0            | \n",
       "| 2016-06-24   | 0.0016876898 | 0            | 1.429185     | 0            | 0            | 0            | 0            | 0            | 0            | ...          | 1            | 0            | 0            | 0            | 0            | 0            | 0            | 0            | 0            | 0            | \n",
       "| 2016-06-24   | 0.0008123320 | 0            | 1.814545     | 0            | 0            | 0            | 0            | 0            | 0            | ...          | 0            | 0            | 0            | 0            | 0            | 0            | 1            | 0            | 0            | 0            | \n",
       "| 2016-06-24   | 0.0008123320 | 0            | 1.814545     | 0            | 0            | 0            | 0            | 0            | 0            | ...          | 0            | 0            | 0            | 0            | 0            | 0            | 1            | 0            | 0            | 0            | \n",
       "| 2016-06-24   | 0.0016894406 | 0            | 1.194743     | 0            | 0            | 0            | 0            | 0            | 0            | ...          | 0            | 0            | 0            | 0            | 0            | 0            | 1            | 0            | 0            | 0            | \n",
       "| 2016-03-03   | 0.0020395837 | 0            | 1.716738     | 0            | 0            | 0            | 0            | 0            | 0            | ...          | 1            | 0            | 0            | 0            | 0            | 0            | 0            | 0            | 0            | 0            | \n",
       "| 2016-03-03   | 0.0005514754 | 0            | 1.174497     | 0            | 0            | 0            | 0            | 0            | 0            | ...          | 0            | 0            | 0            | 0            | 0            | 0            | 1            | 0            | 0            | 0            | \n",
       "| 2016-03-03   | 0.0015126183 | 0            | 1.000000     | 0            | 0            | 0            | 0            | 0            | 0            | ...          | 1            | 0            | 0            | 0            | 0            | 0            | 0            | 0            | 0            | 0            | \n",
       "| 2016-03-03   | 0.0015126183 | 0            | 1.176702     | 0            | 0            | 0            | 0            | 0            | 0            | ...          | 1            | 0            | 0            | 0            | 0            | 0            | 0            | 0            | 0            | 0            | \n",
       "| 2016-05-26   | 0.0034384054 | 0            | 1.481838     | 0            | 0            | 0            | 0            | 0            | 0            | ...          | 0            | 1            | 0            | 0            | 0            | 0            | 0            | 0            | 0            | 0            | \n",
       "| 2016-05-26   | 0.0025630476 | 0            | 1.000000     | 0            | 0            | 0            | 0            | 0            | 0            | ...          | 0            | 0            | 1            | 0            | 0            | 0            | 0            | 0            | 0            | 0            | \n",
       "| 2016-05-26   | 0.0121919835 | 0            | 3.685624     | 0            | 0            | 0            | 0            | 0            | 0            | ...          | 0            | 0            | 0            | 0            | 0            | 0            | 0            | 0            | 0            | 0            | \n",
       "| ... | ... | ... | ... | ... | ... | ... | ... | ... | ... |     | ... | ... | ... | ... | ... | ... | ... | ... | ... | ... | \n",
       "| 2015-12-01  | 0.003263334 | 0           | 2.001054    | 1           | 0           | 0           | 0           | 0           | 0           | ...         | 1           | 0           | 0           | 0           | 0           | 0           | 0           | 0           | 0           | 0           | \n",
       "| 2015-12-01  | 0.002563048 | 0           | 2.001335    | 1           | 0           | 0           | 0           | 0           | 0           | ...         | 1           | 0           | 0           | 0           | 0           | 0           | 0           | 0           | 0           | 0           | \n",
       "| 2015-12-01  | 0.001687690 | 0           | 1.429185    | 1           | 0           | 0           | 0           | 0           | 0           | ...         | 1           | 0           | 0           | 0           | 0           | 0           | 0           | 0           | 0           | 0           | \n",
       "| 2015-12-01  | 0.001862761 | 0           | 1.670213    | 1           | 0           | 0           | 0           | 0           | 0           | ...         | 1           | 0           | 0           | 0           | 0           | 0           | 0           | 0           | 0           | 0           | \n",
       "| 2015-12-01  | 0.002212905 | 0           | 1.429043    | 1           | 0           | 0           | 0           | 0           | 0           | ...         | 1           | 0           | 0           | 0           | 0           | 0           | 0           | 0           | 0           | 0           | \n",
       "| 2015-12-01  | 0.004138692 | 0           | 3.432046    | 1           | 0           | 0           | 0           | 0           | 0           | ...         | 1           | 0           | 0           | 0           | 0           | 0           | 0           | 0           | 0           | 0           | \n",
       "| 2015-12-01  | 0.005119092 | 0           | 3.298774    | 1           | 0           | 0           | 0           | 0           | 0           | ...         | 1           | 0           | 0           | 0           | 0           | 0           | 0           | 0           | 0           | 0           | \n",
       "| 2015-12-01  | 0.002387976 | 0           | 2.323920    | 1           | 0           | 0           | 0           | 0           | 0           | ...         | 1           | 0           | 0           | 0           | 0           | 0           | 0           | 0           | 0           | 0           | \n",
       "| 2015-12-01  | 0.003088262 | 0           | 2.001112    | 1           | 0           | 0           | 0           | 0           | 0           | ...         | 1           | 0           | 0           | 0           | 0           | 0           | 0           | 0           | 0           | 0           | \n",
       "| 2015-12-01  | 0.004313763 | 0           | 3.585366    | 1           | 0           | 0           | 0           | 0           | 0           | ...         | 1           | 0           | 0           | 0           | 0           | 0           | 0           | 0           | 0           | 0           | \n",
       "| 2015-12-01  | 0.002212905 | 0           | 1.667522    | 1           | 0           | 0           | 0           | 0           | 0           | ...         | 1           | 0           | 0           | 0           | 0           | 0           | 0           | 0           | 0           | 0           | \n",
       "| 2015-12-01  | 0.002563048 | 0           | 1.500501    | 1           | 0           | 0           | 0           | 0           | 0           | ...         | 1           | 0           | 0           | 0           | 0           | 0           | 0           | 0           | 0           | 0           | \n",
       "| 2015-12-01  | 0.001775226 | 0           | 1.429155    | 1           | 0           | 0           | 0           | 0           | 0           | ...         | 1           | 0           | 0           | 0           | 0           | 0           | 0           | 0           | 0           | 0           | \n",
       "| 2015-12-01  | 0.002563048 | 0           | 3.004008    | 1           | 0           | 0           | 0           | 0           | 0           | ...         | 0           | 1           | 0           | 0           | 0           | 0           | 0           | 0           | 0           | 0           | \n",
       "| 2015-12-01  | 0.002037833 | 0           | 2.670379    | 1           | 0           | 0           | 0           | 0           | 0           | ...         | 0           | 1           | 0           | 0           | 0           | 0           | 0           | 0           | 0           | 0           | \n",
       "| 2015-12-01  | 0.003613477 | 0           | 1.428863    | 1           | 0           | 0           | 0           | 0           | 0           | ...         | 0           | 1           | 0           | 0           | 0           | 0           | 0           | 0           | 0           | 0           | \n",
       "| 2015-12-01  | 0.002563048 | 0           | 3.004008    | 1           | 0           | 0           | 0           | 0           | 0           | ...         | 0           | 1           | 0           | 0           | 0           | 0           | 0           | 0           | 0           | 0           | \n",
       "| 2015-12-01  | 0.004838978 | 0           | 2.813065    | 1           | 0           | 0           | 0           | 0           | 0           | ...         | 0           | 1           | 0           | 0           | 0           | 0           | 0           | 0           | 0           | 0           | \n",
       "| 2015-12-01  | 0.002212905 | 0           | 1.998462    | 1           | 0           | 0           | 0           | 0           | 0           | ...         | 0           | 1           | 0           | 0           | 0           | 0           | 0           | 0           | 0           | 0           | \n",
       "| 2015-12-01  | 0.002563048 | 0           | 3.004008    | 1           | 0           | 0           | 0           | 0           | 0           | ...         | 0           | 1           | 0           | 0           | 0           | 0           | 0           | 0           | 0           | 0           | \n",
       "| 2015-12-01  | 0.002827406 | 0           | 1.000000    | 1           | 0           | 0           | 0           | 0           | 0           | ...         | 0           | 1           | 0           | 0           | 0           | 0           | 0           | 0           | 0           | 0           | \n",
       "| 2015-12-01  | 0.002212905 | 0           | 1.429043    | 1           | 0           | 0           | 0           | 0           | 0           | ...         | 0           | 1           | 0           | 0           | 0           | 0           | 0           | 0           | 0           | 0           | \n",
       "| 2015-12-01  | 0.001687690 | 0           | 1.429185    | 1           | 0           | 0           | 0           | 0           | 0           | ...         | 0           | 1           | 0           | 0           | 0           | 0           | 0           | 0           | 0           | 0           | \n",
       "| 2015-12-01  | 0.003263334 | 0           | 3.337434    | 1           | 0           | 0           | 0           | 0           | 0           | ...         | 0           | 1           | 0           | 0           | 0           | 0           | 0           | 0           | 0           | 0           | \n",
       "| 2015-12-01  | 0.001512618 | 0           | 2.575931    | 1           | 0           | 0           | 0           | 0           | 0           | ...         | 0           | 1           | 0           | 0           | 0           | 0           | 0           | 0           | 0           | 0           | \n",
       "| 2015-12-01  | 0.001862761 | 0           | 1.222469    | 1           | 0           | 0           | 0           | 0           | 0           | ...         | 0           | 1           | 0           | 0           | 0           | 0           | 0           | 0           | 0           | 0           | \n",
       "| 2015-12-01  | 0.001862761 | 0           | 1.429129    | 1           | 0           | 0           | 0           | 0           | 0           | ...         | 0           | 1           | 0           | 0           | 0           | 0           | 0           | 0           | 0           | 0           | \n",
       "| 2015-12-01  | 0.004488835 | 0           | 3.336329    | 1           | 0           | 0           | 0           | 0           | 0           | ...         | 0           | 1           | 0           | 0           | 0           | 0           | 0           | 0           | 0           | 0           | \n",
       "| 2015-12-01  | 0.001512618 | 0           | 1.000000    | 1           | 0           | 0           | 0           | 0           | 0           | ...         | 0           | 1           | 0           | 0           | 0           | 0           | 0           | 0           | 0           | 0           | \n",
       "| 2015-12-01  | 0.003088262 | 0           | 3.605210    | 1           | 0           | 0           | 0           | 0           | 0           | ...         | 0           | 1           | 0           | 0           | 0           | 0           | 0           | 0           | 0           | 0           | \n",
       "\n",
       "\n"
      ],
      "text/plain": [
       "      crawl_timestamp retail_price is_FK_Advantage_product Demand   brand\n",
       "1     2016-03-25      0.0016876898 0                       2.635884 0    \n",
       "2     2016-03-25      0.0016876898 0                       2.002004 0    \n",
       "3     2016-03-25      0.0011624752 0                       2.617978 0    \n",
       "4     2016-03-25      0.0020378330 0                       2.503132 0    \n",
       "5     2016-03-25      0.0011624752 0                       2.002865 0    \n",
       "6     2016-03-25      0.0020378330 0                       2.503132 0    \n",
       "7     2016-03-25      0.0029569587 0                       1.814737 0    \n",
       "8     2016-03-25      0.0039636201 0                       2.526374 0    \n",
       "9     2016-03-25      0.0016876898 0                       2.635884 0    \n",
       "10    2016-03-25      0.0011624752 0                       1.000000 0    \n",
       "11    2016-03-25      0.0016876898 0                       2.635884 0    \n",
       "12    2016-03-25      0.0015126183 0                       2.002227 0    \n",
       "13    2016-03-25      0.0043137633 0                       2.501502 0    \n",
       "14    2016-03-31      0.0041404424 0                       2.309913 0    \n",
       "15    2016-03-31      0.0025647984 0                       1.000000 0    \n",
       "16    2016-01-03      0.0022129045 0                       1.858369 1    \n",
       "17    2016-01-03      0.0008123320 0                       1.279487 1    \n",
       "18    2016-01-03      0.0011624752 0                       2.262136 1    \n",
       "19    2016-01-03      0.0037885486 0                       1.294291 1    \n",
       "20    2016-06-24      0.0016876898 0                       1.429185 0    \n",
       "21    2016-06-24      0.0008123320 0                       1.814545 0    \n",
       "22    2016-06-24      0.0008123320 0                       1.814545 0    \n",
       "23    2016-06-24      0.0016894406 0                       1.194743 0    \n",
       "24    2016-03-03      0.0020395837 0                       1.716738 0    \n",
       "25    2016-03-03      0.0005514754 0                       1.174497 0    \n",
       "26    2016-03-03      0.0015126183 0                       1.000000 0    \n",
       "27    2016-03-03      0.0015126183 0                       1.176702 0    \n",
       "28    2016-05-26      0.0034384054 0                       1.481838 0    \n",
       "29    2016-05-26      0.0025630476 0                       1.000000 0    \n",
       "30    2016-05-26      0.0121919835 0                       3.685624 0    \n",
       "...   ...             ...          ...                     ...      ...  \n",
       "17653 2015-12-01      0.003263334  0                       2.001054 1    \n",
       "17654 2015-12-01      0.002563048  0                       2.001335 1    \n",
       "17655 2015-12-01      0.001687690  0                       1.429185 1    \n",
       "17656 2015-12-01      0.001862761  0                       1.670213 1    \n",
       "17657 2015-12-01      0.002212905  0                       1.429043 1    \n",
       "17658 2015-12-01      0.004138692  0                       3.432046 1    \n",
       "17659 2015-12-01      0.005119092  0                       3.298774 1    \n",
       "17660 2015-12-01      0.002387976  0                       2.323920 1    \n",
       "17661 2015-12-01      0.003088262  0                       2.001112 1    \n",
       "17662 2015-12-01      0.004313763  0                       3.585366 1    \n",
       "17663 2015-12-01      0.002212905  0                       1.667522 1    \n",
       "17664 2015-12-01      0.002563048  0                       1.500501 1    \n",
       "17665 2015-12-01      0.001775226  0                       1.429155 1    \n",
       "17666 2015-12-01      0.002563048  0                       3.004008 1    \n",
       "17667 2015-12-01      0.002037833  0                       2.670379 1    \n",
       "17668 2015-12-01      0.003613477  0                       1.428863 1    \n",
       "17669 2015-12-01      0.002563048  0                       3.004008 1    \n",
       "17670 2015-12-01      0.004838978  0                       2.813065 1    \n",
       "17671 2015-12-01      0.002212905  0                       1.998462 1    \n",
       "17672 2015-12-01      0.002563048  0                       3.004008 1    \n",
       "17673 2015-12-01      0.002827406  0                       1.000000 1    \n",
       "17674 2015-12-01      0.002212905  0                       1.429043 1    \n",
       "17675 2015-12-01      0.001687690  0                       1.429185 1    \n",
       "17676 2015-12-01      0.003263334  0                       3.337434 1    \n",
       "17677 2015-12-01      0.001512618  0                       2.575931 1    \n",
       "17678 2015-12-01      0.001862761  0                       1.222469 1    \n",
       "17679 2015-12-01      0.001862761  0                       1.429129 1    \n",
       "17680 2015-12-01      0.004488835  0                       3.336329 1    \n",
       "17681 2015-12-01      0.001512618  0                       1.000000 1    \n",
       "17682 2015-12-01      0.003088262  0                       3.605210 1    \n",
       "      brand@home brand1OAK brand3a Autocare brand3a AUTOCARE brand3D Mat ...\n",
       "1     0          0         0                0                0           ...\n",
       "2     0          0         0                0                0           ...\n",
       "3     0          0         0                0                0           ...\n",
       "4     0          0         0                0                0           ...\n",
       "5     0          0         0                0                0           ...\n",
       "6     0          0         0                0                0           ...\n",
       "7     0          0         0                0                0           ...\n",
       "8     0          0         0                0                0           ...\n",
       "9     0          0         0                0                0           ...\n",
       "10    0          0         0                0                0           ...\n",
       "11    0          0         0                0                0           ...\n",
       "12    0          0         0                0                0           ...\n",
       "13    0          0         0                0                0           ...\n",
       "14    0          0         0                0                0           ...\n",
       "15    0          0         0                0                0           ...\n",
       "16    0          0         0                0                0           ...\n",
       "17    0          0         0                0                0           ...\n",
       "18    0          0         0                0                0           ...\n",
       "19    0          0         0                0                0           ...\n",
       "20    0          0         0                0                0           ...\n",
       "21    0          0         0                0                0           ...\n",
       "22    0          0         0                0                0           ...\n",
       "23    0          0         0                0                0           ...\n",
       "24    0          0         0                0                0           ...\n",
       "25    0          0         0                0                0           ...\n",
       "26    0          0         0                0                0           ...\n",
       "27    0          0         0                0                0           ...\n",
       "28    0          0         0                0                0           ...\n",
       "29    0          0         0                0                0           ...\n",
       "30    0          0         0                0                0           ...\n",
       "...   ...        ...       ...              ...              ...            \n",
       "17653 0          0         0                0                0           ...\n",
       "17654 0          0         0                0                0           ...\n",
       "17655 0          0         0                0                0           ...\n",
       "17656 0          0         0                0                0           ...\n",
       "17657 0          0         0                0                0           ...\n",
       "17658 0          0         0                0                0           ...\n",
       "17659 0          0         0                0                0           ...\n",
       "17660 0          0         0                0                0           ...\n",
       "17661 0          0         0                0                0           ...\n",
       "17662 0          0         0                0                0           ...\n",
       "17663 0          0         0                0                0           ...\n",
       "17664 0          0         0                0                0           ...\n",
       "17665 0          0         0                0                0           ...\n",
       "17666 0          0         0                0                0           ...\n",
       "17667 0          0         0                0                0           ...\n",
       "17668 0          0         0                0                0           ...\n",
       "17669 0          0         0                0                0           ...\n",
       "17670 0          0         0                0                0           ...\n",
       "17671 0          0         0                0                0           ...\n",
       "17672 0          0         0                0                0           ...\n",
       "17673 0          0         0                0                0           ...\n",
       "17674 0          0         0                0                0           ...\n",
       "17675 0          0         0                0                0           ...\n",
       "17676 0          0         0                0                0           ...\n",
       "17677 0          0         0                0                0           ...\n",
       "17678 0          0         0                0                0           ...\n",
       "17679 0          0         0                0                0           ...\n",
       "17680 0          0         0                0                0           ...\n",
       "17681 0          0         0                0                0           ...\n",
       "17682 0          0         0                0                0           ...\n",
       "      Col1Clothing Col1Footwear Col1Home Col1Jewellery Col1Kitchen Col1Mobiles\n",
       "1     1            0            0        0             0           0          \n",
       "2     0            1            0        0             0           0          \n",
       "3     1            0            0        0             0           0          \n",
       "4     1            0            0        0             0           0          \n",
       "5     0            1            0        0             0           0          \n",
       "6     1            0            0        0             0           0          \n",
       "7     0            1            0        0             0           0          \n",
       "8     1            0            0        0             0           0          \n",
       "9     1            0            0        0             0           0          \n",
       "10    0            0            0        0             0           0          \n",
       "11    1            0            0        0             0           0          \n",
       "12    0            1            0        0             0           0          \n",
       "13    1            0            0        0             0           0          \n",
       "14    1            0            0        0             0           0          \n",
       "15    0            1            0        0             0           0          \n",
       "16    1            0            0        0             0           0          \n",
       "17    0            0            0        0             0           0          \n",
       "18    1            0            0        0             0           0          \n",
       "19    1            0            0        0             0           0          \n",
       "20    1            0            0        0             0           0          \n",
       "21    0            0            0        0             0           0          \n",
       "22    0            0            0        0             0           0          \n",
       "23    0            0            0        0             0           0          \n",
       "24    1            0            0        0             0           0          \n",
       "25    0            0            0        0             0           0          \n",
       "26    1            0            0        0             0           0          \n",
       "27    1            0            0        0             0           0          \n",
       "28    0            1            0        0             0           0          \n",
       "29    0            0            1        0             0           0          \n",
       "30    0            0            0        0             0           0          \n",
       "...   ...          ...          ...      ...           ...         ...        \n",
       "17653 1            0            0        0             0           0          \n",
       "17654 1            0            0        0             0           0          \n",
       "17655 1            0            0        0             0           0          \n",
       "17656 1            0            0        0             0           0          \n",
       "17657 1            0            0        0             0           0          \n",
       "17658 1            0            0        0             0           0          \n",
       "17659 1            0            0        0             0           0          \n",
       "17660 1            0            0        0             0           0          \n",
       "17661 1            0            0        0             0           0          \n",
       "17662 1            0            0        0             0           0          \n",
       "17663 1            0            0        0             0           0          \n",
       "17664 1            0            0        0             0           0          \n",
       "17665 1            0            0        0             0           0          \n",
       "17666 0            1            0        0             0           0          \n",
       "17667 0            1            0        0             0           0          \n",
       "17668 0            1            0        0             0           0          \n",
       "17669 0            1            0        0             0           0          \n",
       "17670 0            1            0        0             0           0          \n",
       "17671 0            1            0        0             0           0          \n",
       "17672 0            1            0        0             0           0          \n",
       "17673 0            1            0        0             0           0          \n",
       "17674 0            1            0        0             0           0          \n",
       "17675 0            1            0        0             0           0          \n",
       "17676 0            1            0        0             0           0          \n",
       "17677 0            1            0        0             0           0          \n",
       "17678 0            1            0        0             0           0          \n",
       "17679 0            1            0        0             0           0          \n",
       "17680 0            1            0        0             0           0          \n",
       "17681 0            1            0        0             0           0          \n",
       "17682 0            1            0        0             0           0          \n",
       "      Col1Pens Col1Tools Col1Toys Col1Watches\n",
       "1     0        0         0        0          \n",
       "2     0        0         0        0          \n",
       "3     0        0         0        0          \n",
       "4     0        0         0        0          \n",
       "5     0        0         0        0          \n",
       "6     0        0         0        0          \n",
       "7     0        0         0        0          \n",
       "8     0        0         0        0          \n",
       "9     0        0         0        0          \n",
       "10    1        0         0        0          \n",
       "11    0        0         0        0          \n",
       "12    0        0         0        0          \n",
       "13    0        0         0        0          \n",
       "14    0        0         0        0          \n",
       "15    0        0         0        0          \n",
       "16    0        0         0        0          \n",
       "17    0        0         0        0          \n",
       "18    0        0         0        0          \n",
       "19    0        0         0        0          \n",
       "20    0        0         0        0          \n",
       "21    1        0         0        0          \n",
       "22    1        0         0        0          \n",
       "23    1        0         0        0          \n",
       "24    0        0         0        0          \n",
       "25    1        0         0        0          \n",
       "26    0        0         0        0          \n",
       "27    0        0         0        0          \n",
       "28    0        0         0        0          \n",
       "29    0        0         0        0          \n",
       "30    0        0         0        0          \n",
       "...   ...      ...       ...      ...        \n",
       "17653 0        0         0        0          \n",
       "17654 0        0         0        0          \n",
       "17655 0        0         0        0          \n",
       "17656 0        0         0        0          \n",
       "17657 0        0         0        0          \n",
       "17658 0        0         0        0          \n",
       "17659 0        0         0        0          \n",
       "17660 0        0         0        0          \n",
       "17661 0        0         0        0          \n",
       "17662 0        0         0        0          \n",
       "17663 0        0         0        0          \n",
       "17664 0        0         0        0          \n",
       "17665 0        0         0        0          \n",
       "17666 0        0         0        0          \n",
       "17667 0        0         0        0          \n",
       "17668 0        0         0        0          \n",
       "17669 0        0         0        0          \n",
       "17670 0        0         0        0          \n",
       "17671 0        0         0        0          \n",
       "17672 0        0         0        0          \n",
       "17673 0        0         0        0          \n",
       "17674 0        0         0        0          \n",
       "17675 0        0         0        0          \n",
       "17676 0        0         0        0          \n",
       "17677 0        0         0        0          \n",
       "17678 0        0         0        0          \n",
       "17679 0        0         0        0          \n",
       "17680 0        0         0        0          \n",
       "17681 0        0         0        0          \n",
       "17682 0        0         0        0          "
      ]
     },
     "metadata": {},
     "output_type": "display_data"
    }
   ],
   "source": [
    "Interming"
   ]
  },
  {
   "cell_type": "code",
   "execution_count": 14,
   "metadata": {},
   "outputs": [
    {
     "ename": "ERROR",
     "evalue": "Error: variables 'is_FK_Advantage_product', 'Demand' were specified with different types from the fit\n",
     "output_type": "error",
     "traceback": [
      "Error: variables 'is_FK_Advantage_product', 'Demand' were specified with different types from the fit\nTraceback:\n",
      "1. predict(Fit, wr[2, ])",
      "2. predict.lm(Fit, wr[2, ])",
      "3. .checkMFClasses(cl, m)",
      "4. stop(gettextf(\"variables %s were specified with different types from the fit\", \n .     paste(sQuote(names(old)[wrong]), collapse = \", \")), call. = FALSE, \n .     domain = NA)"
     ]
    }
   ],
   "source": [
    "predict(Fit,wr[2,])"
   ]
  },
  {
   "cell_type": "code",
   "execution_count": 13,
   "metadata": {},
   "outputs": [
    {
     "data": {
      "text/html": [
       "<table>\n",
       "<thead><tr><th></th><th scope=col>Col1</th><th scope=col>retail_price</th><th scope=col>is_FK_Advantage_product</th><th scope=col>brand</th><th scope=col>Demand</th></tr></thead>\n",
       "<tbody>\n",
       "\t<tr><th scope=row>NA</th><td>NA      </td><td>NA      </td><td>NA      </td><td>NA      </td><td>NA      </td></tr>\n",
       "\t<tr><th scope=row>2</th><td>Clothing</td><td>0       </td><td>0       </td><td>NA      </td><td>112     </td></tr>\n",
       "</tbody>\n",
       "</table>\n"
      ],
      "text/latex": [
       "\\begin{tabular}{r|lllll}\n",
       "  & Col1 & retail\\_price & is\\_FK\\_Advantage\\_product & brand & Demand\\\\\n",
       "\\hline\n",
       "\tNA & NA       & NA       & NA       & NA       & NA      \\\\\n",
       "\t2 & Clothing & 0        & 0        & NA       & 112     \\\\\n",
       "\\end{tabular}\n"
      ],
      "text/markdown": [
       "\n",
       "| <!--/--> | Col1 | retail_price | is_FK_Advantage_product | brand | Demand | \n",
       "|---|---|\n",
       "| NA | NA       | NA       | NA       | NA       | NA       | \n",
       "| 2 | Clothing | 0        | 0        | NA       | 112      | \n",
       "\n",
       "\n"
      ],
      "text/plain": [
       "   Col1     retail_price is_FK_Advantage_product brand Demand\n",
       "NA NA       NA           NA                      NA    NA    \n",
       "2  Clothing 0            0                       NA    112   "
      ]
     },
     "metadata": {},
     "output_type": "display_data"
    }
   ],
   "source": [
    "wr"
   ]
  },
  {
   "cell_type": "code",
   "execution_count": 42,
   "metadata": {},
   "outputs": [
    {
     "data": {
      "text/html": [
       "<table>\n",
       "<thead><tr><th scope=col>Col1</th><th scope=col>retail_price</th><th scope=col>is_FK_Advantage_product</th><th scope=col>brand</th><th scope=col>Demand</th></tr></thead>\n",
       "<tbody>\n",
       "\t<tr><td>Clothing</td><td>999     </td><td>0       </td><td>Alisha  </td><td>2.635884</td></tr>\n",
       "</tbody>\n",
       "</table>\n"
      ],
      "text/latex": [
       "\\begin{tabular}{r|lllll}\n",
       " Col1 & retail\\_price & is\\_FK\\_Advantage\\_product & brand & Demand\\\\\n",
       "\\hline\n",
       "\t Clothing & 999      & 0        & Alisha   & 2.635884\\\\\n",
       "\\end{tabular}\n"
      ],
      "text/markdown": [
       "\n",
       "Col1 | retail_price | is_FK_Advantage_product | brand | Demand | \n",
       "|---|\n",
       "| Clothing | 999      | 0        | Alisha   | 2.635884 | \n",
       "\n",
       "\n"
      ],
      "text/plain": [
       "  Col1     retail_price is_FK_Advantage_product brand  Demand  \n",
       "1 Clothing 999          0                       Alisha 2.635884"
      ]
     },
     "metadata": {},
     "output_type": "display_data"
    },
    {
     "name": "stdout",
     "output_type": "stream",
     "text": [
      "'data.frame':\t1 obs. of  5 variables:\n",
      " $ Col1                   : Factor w/ 1 level \"Clothing\": 1\n",
      " $ retail_price           : num 999\n",
      " $ is_FK_Advantage_product: int 0\n",
      " $ brand                  : Factor w/ 1 level \"Alisha\": 1\n",
      " $ Demand                 : num 2.64\n"
     ]
    }
   ],
   "source": [
    "read.csv(\"prediction.csv\") -> Pred\n",
    "Pred\n",
    "str(Pred)\n",
    "rbind(Pred,c(\"Clothing\",as.numeric(1200),as.integer(1),\"Alisha\",as.numeric(324))) -> Pred1\n",
    "as.numeric(Pred1$retail_price) -> Pred1$retail_price\n",
    "as.numeric(Pred1$Demand) -> Pred1$Demand\n",
    "as.integer(Pred1$is_FK_Advantage_product) -> Pred1$is_FK_Advantage_product"
   ]
  },
  {
   "cell_type": "code",
   "execution_count": 43,
   "metadata": {},
   "outputs": [
    {
     "data": {
      "text/html": [
       "<table>\n",
       "<thead><tr><th scope=col>Col1</th><th scope=col>retail_price</th><th scope=col>is_FK_Advantage_product</th><th scope=col>brand</th><th scope=col>Demand</th></tr></thead>\n",
       "<tbody>\n",
       "\t<tr><td>Clothing  </td><td> 999      </td><td>0         </td><td>Alisha    </td><td>  2.635884</td></tr>\n",
       "\t<tr><td>Clothing  </td><td>1200      </td><td>1         </td><td>Alisha    </td><td>324.000000</td></tr>\n",
       "</tbody>\n",
       "</table>\n"
      ],
      "text/latex": [
       "\\begin{tabular}{r|lllll}\n",
       " Col1 & retail\\_price & is\\_FK\\_Advantage\\_product & brand & Demand\\\\\n",
       "\\hline\n",
       "\t Clothing   &  999       & 0          & Alisha     &   2.635884\\\\\n",
       "\t Clothing   & 1200       & 1          & Alisha     & 324.000000\\\\\n",
       "\\end{tabular}\n"
      ],
      "text/markdown": [
       "\n",
       "Col1 | retail_price | is_FK_Advantage_product | brand | Demand | \n",
       "|---|---|\n",
       "| Clothing   |  999       | 0          | Alisha     |   2.635884 | \n",
       "| Clothing   | 1200       | 1          | Alisha     | 324.000000 | \n",
       "\n",
       "\n"
      ],
      "text/plain": [
       "  Col1     retail_price is_FK_Advantage_product brand  Demand    \n",
       "1 Clothing  999         0                       Alisha   2.635884\n",
       "2 Clothing 1200         1                       Alisha 324.000000"
      ]
     },
     "metadata": {},
     "output_type": "display_data"
    },
    {
     "name": "stdout",
     "output_type": "stream",
     "text": [
      "'data.frame':\t2 obs. of  5 variables:\n",
      " $ Col1                   : Factor w/ 1 level \"Clothing\": 1 1\n",
      " $ retail_price           : num  999 1200\n",
      " $ is_FK_Advantage_product: int  0 1\n",
      " $ brand                  : Factor w/ 1 level \"Alisha\": 1 1\n",
      " $ Demand                 : num  2.64 324\n"
     ]
    }
   ],
   "source": [
    "Pred1\n",
    "str(Pred1)"
   ]
  },
  {
   "cell_type": "code",
   "execution_count": 44,
   "metadata": {},
   "outputs": [
    {
     "data": {
      "text/html": [
       "<dl class=dl-horizontal>\n",
       "\t<dt>1</dt>\n",
       "\t\t<dd>0.00173205931958376</dd>\n",
       "\t<dt>2</dt>\n",
       "\t\t<dd>0.104019141707743</dd>\n",
       "</dl>\n"
      ],
      "text/latex": [
       "\\begin{description*}\n",
       "\\item[1] 0.00173205931958376\n",
       "\\item[2] 0.104019141707743\n",
       "\\end{description*}\n"
      ],
      "text/markdown": [
       "1\n",
       ":   0.001732059319583762\n",
       ":   0.104019141707743\n",
       "\n"
      ],
      "text/plain": [
       "          1           2 \n",
       "0.001732059 0.104019142 "
      ]
     },
     "metadata": {},
     "output_type": "display_data"
    }
   ],
   "source": [
    "predict(Fit,Pred1)"
   ]
  },
  {
   "cell_type": "code",
   "execution_count": 19,
   "metadata": {},
   "outputs": [
    {
     "name": "stderr",
     "output_type": "stream",
     "text": [
      "Warning message in `[<-.factor`(`*tmp*`, ri, value = \"ba\"):\n",
      "\"invalid factor level, NA generated\""
     ]
    }
   ],
   "source": [
    "rbind(Pred,c(\"Clothing\",1200,1,\"ba\",456)) -> Pred"
   ]
  },
  {
   "cell_type": "code",
   "execution_count": 20,
   "metadata": {},
   "outputs": [
    {
     "data": {
      "text/html": [
       "<table>\n",
       "<thead><tr><th scope=col>Col1</th><th scope=col>retail_price</th><th scope=col>is_FK_Advantage_product</th><th scope=col>brand</th><th scope=col>Demand</th></tr></thead>\n",
       "<tbody>\n",
       "\t<tr><td>Clothing        </td><td>999.000000000001</td><td>0               </td><td>Alisha          </td><td>2.63588390501319</td></tr>\n",
       "\t<tr><td>Clothing        </td><td>1200            </td><td>1               </td><td>NA              </td><td>456             </td></tr>\n",
       "</tbody>\n",
       "</table>\n"
      ],
      "text/latex": [
       "\\begin{tabular}{r|lllll}\n",
       " Col1 & retail\\_price & is\\_FK\\_Advantage\\_product & brand & Demand\\\\\n",
       "\\hline\n",
       "\t Clothing         & 999.000000000001 & 0                & Alisha           & 2.63588390501319\\\\\n",
       "\t Clothing         & 1200             & 1                & NA               & 456             \\\\\n",
       "\\end{tabular}\n"
      ],
      "text/markdown": [
       "\n",
       "Col1 | retail_price | is_FK_Advantage_product | brand | Demand | \n",
       "|---|---|\n",
       "| Clothing         | 999.000000000001 | 0                | Alisha           | 2.63588390501319 | \n",
       "| Clothing         | 1200             | 1                | NA               | 456              | \n",
       "\n",
       "\n"
      ],
      "text/plain": [
       "  Col1     retail_price     is_FK_Advantage_product brand  Demand          \n",
       "1 Clothing 999.000000000001 0                       Alisha 2.63588390501319\n",
       "2 Clothing 1200             1                       NA     456             "
      ]
     },
     "metadata": {},
     "output_type": "display_data"
    }
   ],
   "source": [
    "Pred"
   ]
  },
  {
   "cell_type": "code",
   "execution_count": 31,
   "metadata": {},
   "outputs": [
    {
     "name": "stdout",
     "output_type": "stream",
     "text": [
      "'data.frame':\t3 obs. of  5 variables:\n",
      " $ Col1                   : Factor w/ 1 level \"Clothing\": NA 1 1\n",
      " $ retail_price           : chr  NA \"112\" \"112\"\n",
      " $ is_FK_Advantage_product: chr  NA \"0\" \"0\"\n",
      " $ brand                  : Factor w/ 1 level \"Alisha\": NA NA NA\n",
      " $ Demand                 : chr  NA \"3.5\" \"3.5\"\n"
     ]
    }
   ],
   "source": [
    "str(wr)"
   ]
  },
  {
   "cell_type": "code",
   "execution_count": 27,
   "metadata": {},
   "outputs": [
    {
     "name": "stderr",
     "output_type": "stream",
     "text": [
      "Warning message in `[<-.factor`(`*tmp*`, ri, value = \"A\"):\n",
      "\"invalid factor level, NA generated\""
     ]
    }
   ],
   "source": [
    "rbind(wr,c(\"Clothing\",112,0,\"A\",3.5)) -> wr"
   ]
  },
  {
   "cell_type": "code",
   "execution_count": 28,
   "metadata": {},
   "outputs": [
    {
     "data": {
      "text/html": [
       "<table>\n",
       "<thead><tr><th></th><th scope=col>Col1</th><th scope=col>retail_price</th><th scope=col>is_FK_Advantage_product</th><th scope=col>brand</th><th scope=col>Demand</th></tr></thead>\n",
       "<tbody>\n",
       "\t<tr><th scope=row>NA</th><td>NA      </td><td>NA      </td><td>NA      </td><td>NA      </td><td>NA      </td></tr>\n",
       "\t<tr><th scope=row>2</th><td>Clothing</td><td>112     </td><td>0       </td><td>NA      </td><td>3.5     </td></tr>\n",
       "\t<tr><th scope=row>3</th><td>Clothing</td><td>112     </td><td>0       </td><td>NA      </td><td>3.5     </td></tr>\n",
       "</tbody>\n",
       "</table>\n"
      ],
      "text/latex": [
       "\\begin{tabular}{r|lllll}\n",
       "  & Col1 & retail\\_price & is\\_FK\\_Advantage\\_product & brand & Demand\\\\\n",
       "\\hline\n",
       "\tNA & NA       & NA       & NA       & NA       & NA      \\\\\n",
       "\t2 & Clothing & 112      & 0        & NA       & 3.5     \\\\\n",
       "\t3 & Clothing & 112      & 0        & NA       & 3.5     \\\\\n",
       "\\end{tabular}\n"
      ],
      "text/markdown": [
       "\n",
       "| <!--/--> | Col1 | retail_price | is_FK_Advantage_product | brand | Demand | \n",
       "|---|---|---|\n",
       "| NA | NA       | NA       | NA       | NA       | NA       | \n",
       "| 2 | Clothing | 112      | 0        | NA       | 3.5      | \n",
       "| 3 | Clothing | 112      | 0        | NA       | 3.5      | \n",
       "\n",
       "\n"
      ],
      "text/plain": [
       "   Col1     retail_price is_FK_Advantage_product brand Demand\n",
       "NA NA       NA           NA                      NA    NA    \n",
       "2  Clothing 112          0                       NA    3.5   \n",
       "3  Clothing 112          0                       NA    3.5   "
      ]
     },
     "metadata": {},
     "output_type": "display_data"
    }
   ],
   "source": [
    "wr"
   ]
  },
  {
   "cell_type": "code",
   "execution_count": null,
   "metadata": {},
   "outputs": [],
   "source": [
    "wr"
   ]
  }
 ],
 "metadata": {
  "kernelspec": {
   "display_name": "R",
   "language": "R",
   "name": "ir"
  },
  "language_info": {
   "codemirror_mode": "r",
   "file_extension": ".r",
   "mimetype": "text/x-r-source",
   "name": "R",
   "pygments_lexer": "r",
   "version": "3.4.3"
  }
 },
 "nbformat": 4,
 "nbformat_minor": 2
}
